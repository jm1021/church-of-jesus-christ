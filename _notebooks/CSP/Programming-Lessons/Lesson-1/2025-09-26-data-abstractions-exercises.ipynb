{
 "cells": [
  {
   "cell_type": "code",
   "execution_count": null,
   "id": "a6eed6e4",
   "metadata": {
    "vscode": {
     "languageId": "yaml"
    }
   },
   "outputs": [],
   "source": [
    "---\n",
    "toc: true\n",
    "comments: false\n",
    "layout: post\n",
    "categories: [CSP Big Idea 3]\n",
    "title: 3.2 Data Abstractions Hack\n",
    "author: Jaynee Chauhan, Michelle Ji, Lucas Masterson\n",
    "description: Hack(s) for intro to data abstractions in Python and JS.\n",
    "courses: { csp: {week: 8 } }\n",
    "type: ccc\n",
    "permalink: /csp/big-idea-3/data-abstractions/p4/exercises\n",
    "---"
   ]
  },
  {
   "cell_type": "markdown",
   "id": "dd32f648",
   "metadata": {},
   "source": [
    "You have two options for completing today’s lab:\n",
    "\n",
    "**Option A:** Do **Lab 1 (Python)** *and* **Lab 2 (JavaScript)**.  \n",
    "**Option B:** Do **Lab 3 (Python, extended project)** instead. \n",
    "\n",
    "You can complete the Python lab by simply running your code and getting your outputs in the Jupyter notebook. For JavaScript, you'll have to open the web console from Developer Tools (`ctrl + shift + p` -> `Developer: Toggle developer tools`)."
   ]
  },
  {
   "cell_type": "markdown",
   "id": "f075facc",
   "metadata": {},
   "source": [
    "## Lab 1: Data Abstractions in Python\n",
    "\n",
    "In this lab, you’ll practice using *data abstractions* (like lists and strings) and other data types (integers, floats, booleans, tuples)."
   ]
  },
  {
   "cell_type": "code",
   "execution_count": null,
   "id": "9202f6d0",
   "metadata": {},
   "outputs": [],
   "source": [
    "# 1. Working with numbers\n",
    "# Define an integer and a float. Print them both.\n",
    "# TODO: Replace the ___ with your code.\n",
    "\n",
    "integer_value = _\n",
    "float_value = _\n",
    "print(integer_value)\n",
    "print(float_value)"
   ]
  },
  {
   "cell_type": "code",
   "execution_count": null,
   "id": "295422c3",
   "metadata": {},
   "outputs": [],
   "source": [
    "# 2. Booleans\n",
    "# Create two boolean variables: one True and one False.\n",
    "# Print them.\n",
    "\n",
    "a = _\n",
    "b = _\n",
    "print(a, b)"
   ]
  },
  {
   "cell_type": "code",
   "execution_count": null,
   "id": "88c56edd",
   "metadata": {},
   "outputs": [],
   "source": [
    "# 3. Lists\n",
    "# Create a list of at least 5 integers (your choice).\n",
    "# Print the first and last element using indexing.\n",
    "\n",
    "numbers = _\n",
    "print(\"First:\", _)\n",
    "print(\"Last:\", _)"
   ]
  },
  {
   "cell_type": "code",
   "execution_count": null,
   "id": "162cd249",
   "metadata": {},
   "outputs": [],
   "source": [
    "# 4. Tuples\n",
    "# Tuples are like lists but immutable (cannot be changed).\n",
    "# Create a tuple with (your_name, your_age, your_favorite_number).\n",
    "# Print each element.\n",
    "\n",
    "info = _\n",
    "print(info[0])  # name\n",
    "print(info[1])  # age\n",
    "print(info[2])  # favorite number"
   ]
  },
  {
   "cell_type": "code",
   "execution_count": null,
   "id": "055dc6f1",
   "metadata": {},
   "outputs": [],
   "source": [
    "# 5. Strings and lists together\n",
    "# Strings are sequences of characters (like lists).\n",
    "# Create a string variable with a word.\n",
    "# Print the second character and the last character.\n",
    "\n",
    "word = _\n",
    "print(\"Second character:\", _)\n",
    "print(\"Last character:\", _)"
   ]
  },
  {
   "cell_type": "code",
   "execution_count": null,
   "id": "24745f30",
   "metadata": {},
   "outputs": [],
   "source": [
    "# 6. Abstraction in action\n",
    "# Create a list of test scores (at least 4 numbers).\n",
    "# Use a loop to compute the average instead of adding manually.\n",
    "\n",
    "scores = _\n",
    "total = 0\n",
    "for score in scores:\n",
    "    total += score\n",
    "\n",
    "average = total / len(scores)\n",
    "print(\"Average score:\", average)"
   ]
  },
  {
   "cell_type": "markdown",
   "id": "c53627c4",
   "metadata": {},
   "source": [
    "### Things to think about\n",
    "- How does using a list make it easier to calculate an average than writing separate variables for each score?\n",
    "- Why might tuples be useful if you want to store data that shouldn't change?"
   ]
  },
  {
   "cell_type": "markdown",
   "id": "49a97a56",
   "metadata": {},
   "source": [
    "## Lab 2: Data Abstractions in JavaScript\n",
    "\n",
    "Now let’s explore *data abstractions* in JavaScript using arrays, strings, numbers, and booleans."
   ]
  },
  {
   "cell_type": "code",
   "execution_count": null,
   "id": "74822bbb",
   "metadata": {
    "vscode": {
     "languageId": "javascript"
    }
   },
   "outputs": [],
   "source": [
    "// 1. Numbers\n",
    "// Define a whole number (integer) and a decimal (float). Print them.\n",
    "\n",
    "let integerValue = _;\n",
    "let floatValue = _;\n",
    "\n",
    "console.log(integerValue);\n",
    "console.log(floatValue);"
   ]
  },
  {
   "cell_type": "code",
   "execution_count": null,
   "id": "d69a429e",
   "metadata": {
    "vscode": {
     "languageId": "javascript"
    }
   },
   "outputs": [],
   "source": [
    "// 2. Booleans\n",
    "// Create two boolean variables: one true and one false. Print them.\n",
    "\n",
    "let a = _;\n",
    "let b = _;\n",
    "\n",
    "console.log(a, b);"
   ]
  },
  {
   "cell_type": "code",
   "execution_count": null,
   "id": "5d5411a0",
   "metadata": {
    "vscode": {
     "languageId": "javascript"
    }
   },
   "outputs": [],
   "source": [
    "// 3. Arrays\n",
    "// Create an array with at least 5 integers.\n",
    "// Print the first and last element using indexing.\n",
    "\n",
    "let numbers = _;\n",
    "\n",
    "console.log(\"First:\", _);\n",
    "console.log(\"Last:\", _);"
   ]
  },
  {
   "cell_type": "code",
   "execution_count": null,
   "id": "4089a614",
   "metadata": {
    "vscode": {
     "languageId": "javascript"
    }
   },
   "outputs": [],
   "source": [
    "// 4. Strings\n",
    "// Strings are like arrays of characters.\n",
    "// Create a string variable with a word.\n",
    "// Print the second and last character.\n",
    "\n",
    "let word = _;\n",
    "\n",
    "console.log(\"Second character:\", _);\n",
    "console.log(\"Last character:\", _);"
   ]
  },
  {
   "cell_type": "code",
   "execution_count": null,
   "id": "714cadeb",
   "metadata": {
    "vscode": {
     "languageId": "javascript"
    }
   },
   "outputs": [],
   "source": [
    "// 6. Abstraction in action\n",
    "// Create an array of test scores (at least 4 numbers).\n",
    "// Use a loop to compute the average.\n",
    "\n",
    "let scores = _;\n",
    "let total = 0;\n",
    "\n",
    "for (let score of scores) {\n",
    "    total += score;\n",
    "}\n",
    "\n",
    "let average = total / scores.length;\n",
    "console.log(\"Average score:\", average);"
   ]
  },
  {
   "cell_type": "markdown",
   "id": "5a90a44f",
   "metadata": {},
   "source": [
    "## Lab 3: Python Gradebook\n",
    "\n",
    "You are building a small \"gradebook\" program to track students’ names, test scores, and averages. You can run the cells one by one as you progress (Jupyter saves variables as you run those code blocks), so only move on to another cell once you finis the one before it."
   ]
  },
  {
   "cell_type": "code",
   "execution_count": null,
   "id": "a7eaec04",
   "metadata": {},
   "outputs": [],
   "source": [
    "# 1. Represent a student as a dictionary with keys:\n",
    "# \"name\"(string), \"scores\"(list of integers), \"passed\"(boolean).\n",
    "# TODO: Replace ___ with your code.\n",
    "\n",
    "student = {\n",
    "    \"name\": _,\n",
    "    \"scores\": _,\n",
    "    \"passed\": _\n",
    "}\n",
    "\n",
    "print(student)"
   ]
  },
  {
   "cell_type": "code",
   "execution_count": null,
   "id": "ac4f04ab",
   "metadata": {},
   "outputs": [],
   "source": [
    "# 2. Print the student's name, first score, and last score.\n",
    "# Dictionary elements are accessed by `dictionary[key]`. \n",
    "# Do your research!\n",
    "\n",
    "print(\"Name:\", _)\n",
    "print(\"First score:\", _)\n",
    "print(\"Last score:\", _)"
   ]
  },
  {
   "cell_type": "code",
   "execution_count": null,
   "id": "f9eefe41",
   "metadata": {},
   "outputs": [],
   "source": [
    "# 3. Write a function compute_average(scores) that returns the average.\n",
    "# Use it to calculate this student's average.\n",
    "\n",
    "def compute_average(scores):\n",
    "    _\n",
    "\n",
    "average = compute_average(student[\"scores\"])\n",
    "print(\"Average:\", average)"
   ]
  },
  {
   "cell_type": "code",
   "execution_count": null,
   "id": "e2125f0d",
   "metadata": {},
   "outputs": [],
   "source": [
    "# 4. Use the average to set the student's \"passed\" field.\n",
    "# Passing is average >= 70.\n",
    "\n",
    "student[\"passed\"] = _\n",
    "print(\"Updated student:\", student)"
   ]
  },
  {
   "cell_type": "code",
   "execution_count": null,
   "id": "23f3e216",
   "metadata": {},
   "outputs": [],
   "source": [
    "# 5. Create a list of 3 students (each as a dictionary).\n",
    "# Use loops to:\n",
    "#   - Print each student’s name and average\n",
    "#   - Count how many passed\n",
    "\n",
    "students = [\n",
    "    {\"name\": \"Alice\", \"scores\": [85, 90, 78], \"passed\": None},\n",
    "    {\"name\": \"Bob\", \"scores\": [60, 65, 58], \"passed\": None},\n",
    "    {\"name\": \"Charlie\", \"scores\": [95, 100, 92], \"passed\": None}\n",
    "]\n",
    "\n",
    "for s in students:\n",
    "    _\n",
    "    print(s[\"name\"], \"average:\", avg, \"passed:\", s[\"passed\"])"
   ]
  }
 ],
 "metadata": {
  "kernelspec": {
   "display_name": "venv",
   "language": "python",
   "name": "python3"
  },
  "language_info": {
   "codemirror_mode": {
    "name": "ipython",
    "version": 3
   },
   "file_extension": ".py",
   "mimetype": "text/x-python",
   "name": "python",
   "nbconvert_exporter": "python",
   "pygments_lexer": "ipython3",
   "version": "3.13.7"
  }
 },
 "nbformat": 4,
 "nbformat_minor": 5
}
