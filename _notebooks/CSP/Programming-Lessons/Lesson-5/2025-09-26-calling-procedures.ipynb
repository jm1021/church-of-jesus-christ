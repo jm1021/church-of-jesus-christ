{
 "cells": [
  {
   "cell_type": "code",
   "execution_count": null,
   "id": "16b31136",
   "metadata": {
    "vscode": {
     "languageId": "yaml"
    }
   },
   "outputs": [],
   "source": [
    "---\n",
    "toc: true\n",
    "comments: false\n",
    "layout: post\n",
    "categories: [CSP Big Idea 3]\n",
    "title: 3.12 Calling Procedures \n",
    "description: Calling procedures in JS and Python with a dash of crabs.\n",
    "courses: { csp: {week: 8 } }\n",
    "type: ccc\n",
    "permalink: /csp/big-idea-3/calling-procedures/p4/introduction\n",
    "---"
   ]
  },
  {
   "cell_type": "markdown",
   "id": "2a8c20d4",
   "metadata": {},
   "source": [
    "# Test"
   ]
  }
 ],
 "metadata": {
  "language_info": {
   "name": "python"
  }
 },
 "nbformat": 4,
 "nbformat_minor": 5
}
