{
 "cells": [
  {
   "cell_type": "raw",
   "id": "2f127772",
   "metadata": {
    "vscode": {
     "languageId": "raw"
    }
   },
   "source": [
    "---\n",
    "layout: post\n",
    "title: Sprint 3 - CSP Channel Messaging \n",
    "description:  Software Development using Frontend and Backend Technologies \n",
    "permalink: /blockunlock/game-concept\n",
    "---"
   ]
  },
  {
   "cell_type": "markdown",
   "id": "4670500d",
   "metadata": {},
   "source": [
    "# Why A Puzzle Game?\n",
    "\n",
    "### Big Ideas\n",
    "\n",
    "**3.3** Mathmatical Expression <br>\n",
    "**3.6  / 3.7** Conditionals + Nested Conditionals\n",
    "\n",
    "We decided to go for a puzzle game as out of the Big Ideas we have, a puzzle game mainly fits the way we want to teach people how to learn out big ideas. <br>\n",
    "\n",
    "We want to teach players these main topics through gamplay and hands on experience. While the player is playing the game they will unknowingly start to learn these main topics. After a set of levels the player will encounter a short section that \n",
    "\n"
   ]
  },
  {
   "cell_type": "markdown",
   "id": "d59d1d58",
   "metadata": {},
   "source": [
    "# Big Ideas through tiles\n",
    "### Big Ideas\n",
    "**3.3** Mathematical Expression <br>\n",
    "**3.6 / 3.7** Conditionals + Nested Conditionals\n",
    "Our puzzle game will have a variety of different blocks, with each one tying into one of the big ideas. Our blocks are:\n",
    "- Block: Able to be pushed in any direction"
   ]
  }
 ],
 "metadata": {
  "kernelspec": {
   "display_name": "venv",
   "language": "python",
   "name": "python3"
  },
  "language_info": {
   "name": "python",
   "version": "3.12.3"
  }
 },
 "nbformat": 4,
 "nbformat_minor": 5
}
