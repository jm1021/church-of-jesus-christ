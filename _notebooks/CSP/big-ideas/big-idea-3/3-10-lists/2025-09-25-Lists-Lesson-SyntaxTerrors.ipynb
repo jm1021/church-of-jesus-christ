{
 "cells": [
  {
   "cell_type": "code",
   "execution_count": null,
   "id": "4319c8d6",
   "metadata": {
    "vscode": {
     "languageId": "yaml"
    }
   },
   "outputs": [],
   "source": [
    "---\n",
    "layout: tailwindPost\n",
    "infoGraph: lists\n",
    "title: Coding Concept - Lists\n",
    "description: Understanding Lists in Python and JavaScript\n",
    "permalink: /csp/big-idea-three/lists/lesson/p3/syntaxterrors\n",
    "author: Hope F \n",
    "---"
   ]
  },
  {
   "cell_type": "markdown",
   "id": "9e745753",
   "metadata": {},
   "source": [
    "## 3.10 Lists - Syntax Terrors "
   ]
  },
  {
   "cell_type": "markdown",
   "id": "2d5f60f3",
   "metadata": {},
   "source": [
    "{%- include tailwind/tabs.html -%}"
   ]
  }
 ],
 "metadata": {
  "kernelspec": {
   "display_name": "Python 3",
   "language": "python",
   "name": "python3"
  },
  "language_info": {
   "name": "python",
   "version": "3.10"
  }
 },
 "nbformat": 4,
 "nbformat_minor": 5
}
