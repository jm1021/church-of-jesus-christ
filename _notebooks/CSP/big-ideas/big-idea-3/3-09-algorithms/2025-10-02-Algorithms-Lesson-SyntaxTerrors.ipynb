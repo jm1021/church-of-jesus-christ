{
 "cells": [
  {
   "cell_type": "code",
   "execution_count": null,
   "id": "a996e23f",
   "metadata": {
    "vscode": {
     "languageId": "yaml"
    }
   },
   "outputs": [],
   "source": [
    "---\n",
    "layout: tailwindPost\n",
    "infoGraph: algorithms\n",
    "title: Coding Concept - Algorithms\n",
    "description: Understanding Algorithms in Python and JavaScript\n",
    "permalink: /csp/big-idea-three/algorithms/lesson/p3/syntaxterrors\n",
    "author: Hope F\n",
    "---"
   ]
  },
  {
   "cell_type": "markdown",
   "id": "dc7e70e0",
   "metadata": {},
   "source": [
    "## 3.9 Algorithms - Syntax Terrors "
   ]
  },
  {
   "cell_type": "markdown",
   "id": "b463c663",
   "metadata": {},
   "source": [
    "{%- include tailwind/tabs.html -%}"
   ]
  }
 ],
 "metadata": {
  "language_info": {
   "name": "python"
  }
 },
 "nbformat": 4,
 "nbformat_minor": 5
}
