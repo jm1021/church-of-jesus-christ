{
 "cells": [
  {
   "cell_type": "markdown",
   "id": "6a20ad81",
   "metadata": {},
   "source": [
    "---\n",
    "layout: post\n",
    "toc: true\n",
    "title: Array Traversals\n",
    "menu: nav/CSA_Nunits/csaunit4.html\n",
    "permalink: /csa/unit_04/4_4\n",
    "---"
   ]
  },
  {
   "cell_type": "markdown",
   "id": "fd94e0a0",
   "metadata": {},
   "source": [
    "# Traversing Array (1D)\n",
    "> Using iteration statements (standard for loops and while loops) to access each element in an array. \n",
    "\n",
    "# For loop : Accessing Some Elements of a List\n",
    "# 6.3 Enhanced for loop for Arrays (Vivian)\n",
    "- the enhanced for loop is also known as the “for each” loop\n",
    "- provides a simplified way to loop through elements in an array, collection, or other iterable data structures.\n",
    "\n",
    "## Standard For Loop\n",
    "- An array in java is indexed from _ to the number of elements - _. \n",
    "\n",
    "**Review on For Loops**\n",
    "- init: The init expression is used for initializing a variable, and it is executed only once.\n",
    "- condition: It executes the condition statement for every iteration\n",
    "- incr/decr: It is the increment or decrement statement applied to the variable, updates the initial expression.\n",
    "\n",
    "![image](https://github.com/tanishapatil1234/student/assets/111611921/ec109b9d-f3be-451f-9d87-6488a1c96e2b)\n"
   ]
  },
  {
   "cell_type": "code",
   "execution_count": null,
   "id": "6c465a9b",
   "metadata": {
    "vscode": {
     "languageId": "java"
    }
   },
   "outputs": [],
   "source": [
    "import java.util.Random;\n",
    "\n",
    "/*  public class RandomArray {\n",
    "    public static void main(String[] args){\n",
    "    int [] list = new int[6];\n",
    "    Random rand = new Random(); \n",
    "*/\n",
    "    // FOR LOOP 1\n",
    "    for (int i = 0; i < list.length; i++){\n",
    "        list[i] = rand.nextInt(4);\n",
    "    }\n",
    "\n",
    "    // FOR LOOP 2\n",
    "   for(int element: list){\n",
    "        System.out.println(element);\n",
    "    }\n",
    "\n",
    "/*   }\n",
    "\n",
    "   }\n",
    "\n",
    "  RandomArray.main(null);\n",
    "*/"
   ]
  },
  {
   "cell_type": "markdown",
   "id": "78237087",
   "metadata": {},
   "source": [
    "![download](https://github.com/tanishapatil1234/student/assets/111611921/39e2f50d-6eca-4dcd-9d57-489662a26391)\n"
   ]
  },
  {
   "cell_type": "markdown",
   "id": "947e9481",
   "metadata": {},
   "source": [
    "**Class Discussion-Take Notes, these will count for points in your hacks!**\n",
    "\n",
    "4. If I only wanted to access the elements at even indices of the list (0, 2, 4), what could I change in the statement below to accomplish that?  \n",
    "\n",
    "5. What about odd?  "
   ]
  },
  {
   "cell_type": "code",
   "execution_count": null,
   "id": "d2ab10c3",
   "metadata": {
    "vscode": {
     "languageId": "java"
    }
   },
   "outputs": [],
   "source": [
    "// EVEN\n",
    "int[] list = {0, 1, 2, 3, 4, 5};\n",
    "System.out.println(\"Even Index\");\n",
    "for(int index = 0; index < list.length; index++){\n",
    "    System.out.println(list[index]);\n",
    "}\n",
    "\n",
    "// ODD\n",
    "int[] list = {0, 1, 2, 3, 4, 5};\n",
    "System.out.println(\"Odd Index\");\n",
    "for(int index = 0; index < list.length; index++){\n",
    "    System.out.println(list[index]);\n",
    "}"
   ]
  },
  {
   "cell_type": "markdown",
   "id": "c1c0e1be",
   "metadata": {
    "vscode": {
     "languageId": "java"
    }
   },
   "source": [
    "**Note: These are NOT traversals, even though these are for loops. This is because not every element in the array is accessed.**"
   ]
  },
  {
   "cell_type": "markdown",
   "id": "f33f99be",
   "metadata": {
    "vscode": {
     "languageId": "java"
    }
   },
   "source": [
    "6. Does the following loop accomplish traversing the array? "
   ]
  },
  {
   "cell_type": "code",
   "execution_count": null,
   "id": "afd5cfa1",
   "metadata": {
    "vscode": {
     "languageId": "java"
    }
   },
   "outputs": [],
   "source": [
    "int [] list = new int[5];\n",
    "int index = 0; \n",
    "\n",
    "while (index < list.length) \n",
    "{\n",
    "    // Do something\n",
    "    index ++; \n",
    "}"
   ]
  },
  {
   "cell_type": "markdown",
   "id": "6dad9dc7",
   "metadata": {},
   "source": [
    "7. This while loop and the for loop we used earlier accomplish the same task. The main difference is that after the loop is completed, the variable 'index' in the while loop will still exist. The variable 'i' in the for loop will not. Why? \n",
    "\n",
    "__________________________________"
   ]
  },
  {
   "cell_type": "markdown",
   "id": "b5a54337",
   "metadata": {},
   "source": [
    "## Bounds Errors"
   ]
  },
  {
   "cell_type": "markdown",
   "id": "098cbce4",
   "metadata": {},
   "source": [
    "When traversing an array, we need to be careful with the indices to avoid an ArrayIndexOutOfBoundsException being thrown. "
   ]
  },
  {
   "cell_type": "markdown",
   "id": "4c80039c",
   "metadata": {},
   "source": [
    "**ATTENTION: MOST COMMON MISTAKE:**\n",
    "8. What is wrong with the for loop and while loop below? Why does this produce an ArrayIndexOutOfBoundsException error? ____"
   ]
  },
  {
   "cell_type": "markdown",
   "id": "950967a7",
   "metadata": {},
   "source": [
    "for(int i = 0; i <= list.length; i ++)"
   ]
  }
 ],
 "metadata": {
  "language_info": {
   "name": "python"
  }
 },
 "nbformat": 4,
 "nbformat_minor": 5
}
