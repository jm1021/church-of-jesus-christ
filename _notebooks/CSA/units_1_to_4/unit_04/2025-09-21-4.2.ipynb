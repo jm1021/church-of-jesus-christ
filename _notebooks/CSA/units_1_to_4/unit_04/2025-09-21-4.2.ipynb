{
 "cells": [
  {
   "cell_type": "markdown",
   "id": "a76c5cb0",
   "metadata": {},
   "source": [
    "---\n",
    "layout: post\n",
    "toc: true\n",
    "title: Introduction to Using Data Sets\n",
    "menu: nav/CSA_Nunits/csaunit4.html\n",
    "permalink: /csa/unit_04/4_2\n",
    "---"
   ]
  }
 ],
 "metadata": {
  "language_info": {
   "name": "python"
  }
 },
 "nbformat": 4,
 "nbformat_minor": 5
}
