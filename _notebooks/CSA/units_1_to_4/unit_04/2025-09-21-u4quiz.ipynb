{
 "cells": [
  {
   "cell_type": "markdown",
   "id": "26a9e413",
   "metadata": {},
   "source": [
    "---\n",
    "layout: post\n",
    "toc: true\n",
    "title: Unit 4 Quiz\n",
    "menu: nav/CSA_Nunits/csaunit4.html\n",
    "permalink: /csa/unit_04/quiz\n",
    "---"
   ]
  }
 ],
 "metadata": {
  "language_info": {
   "name": "python"
  }
 },
 "nbformat": 4,
 "nbformat_minor": 5
}
