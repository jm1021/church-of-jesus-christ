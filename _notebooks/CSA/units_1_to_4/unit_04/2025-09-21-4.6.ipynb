{
 "cells": [
  {
   "cell_type": "markdown",
   "id": "12993e6f",
   "metadata": {},
   "source": [
    "---\n",
    "layout: post\n",
    "toc: true\n",
    "title: Using Text Files\n",
    "menu: nav/CSA_Nunits/csaunit4.html\n",
    "permalink: /csa/unit_04/4_6\n",
    "---"
   ]
  }
 ],
 "metadata": {
  "language_info": {
   "name": "python"
  }
 },
 "nbformat": 4,
 "nbformat_minor": 5
}
