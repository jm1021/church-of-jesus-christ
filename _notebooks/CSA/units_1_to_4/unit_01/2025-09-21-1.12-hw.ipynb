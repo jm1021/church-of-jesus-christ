{
 "cells": [
  {
   "cell_type": "raw",
   "id": "b8d8b69f",
   "metadata": {
    "vscode": {
     "languageId": "raw"
    }
   },
   "source": [
    "---\n",
    "layout: post\n",
    "toc: true\n",
    "title: 1.12 Homework\n",
    "menu: nav/CSA_Nunits/csaunit1.html\n",
    "permalink: /csa/unit_01/1_12/homework\n",
    "author: Trevor, Kush, Elliot, Aranya, Travis, Alex\n",
    "---"
   ]
  },
  {
   "cell_type": "markdown",
   "id": "4aba089c",
   "metadata": {},
   "source": [
    "# Homework\n",
    "---\n",
    "# Scenario\n",
    "\n",
    "Its your first day of class when Mr. Mortenson asks you to identify all the students and list some characteristics about them. Create a class to use as a template to create student objects and create 3 imaginary students.\n",
    "---\n",
    "\n",
    "# Instructions\n",
    "1. **Create a class**\n",
    "    -    **Instance variables:**  \n",
    "    - `String name`  \n",
    "    - `int grade`  \n",
    "    - `int pets`  \n",
    "    - `int siblings`\n",
    "    - `MAKE YOUR OWN`\n",
    "\n",
    "2. **In `main`:**  \n",
    "    - Create three student objects.  \n"
   ]
  },
  {
   "cell_type": "code",
   "execution_count": null,
   "id": "bd9502da",
   "metadata": {
    "vscode": {
     "languageId": "java"
    }
   },
   "outputs": [],
   "source": [
    "//Code Here"
   ]
  },
  {
   "cell_type": "markdown",
   "id": "a4f5f575",
   "metadata": {},
   "source": [
    "# New Scenario\n",
    "\n",
    "You find out that one of the students that you created an object for goes by a nickname. Using your knowledge of reference variables,  create another object that references back to the same student.\n",
    "---\n",
    "\n",
    "# Instructions\n",
    "1. **Use your previous code**\n",
    "\n",
    "\n",
    "2. **In `main`:**  \n",
    "    - Create a reference variable with a different name that points to the same student. \n",
    "    - Output the instance attributes of this student\n"
   ]
  },
  {
   "cell_type": "markdown",
   "id": "0913155e",
   "metadata": {},
   "source": [
    "//Code Here"
   ]
  }
 ],
 "metadata": {
  "language_info": {
   "name": "python"
  }
 },
 "nbformat": 4,
 "nbformat_minor": 5
}
