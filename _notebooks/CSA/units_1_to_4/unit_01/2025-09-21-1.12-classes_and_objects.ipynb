{
 "cells": [
  {
   "cell_type": "raw",
   "id": "c40f7c2e",
   "metadata": {
    "vscode": {
     "languageId": "raw"
    }
   },
   "source": [
    "---\n",
    "layout: post\n",
    "toc: true\n",
    "title: Classes & Objects\n",
    "menu: nav/CSA_Nunits/csaunit1.html\n",
    "permalink: /csa/unit_01/1_12\n",
    "author: Kush, Trevor, Elliot, Aranya, Travis, Alex\n",
    "---"
   ]
  },
  {
   "cell_type": "markdown",
   "id": "ed26d857",
   "metadata": {},
   "source": [
    "# AP CSA: Classes & Objects\n",
    "\n",
    "**Goal:** Understand the relationship between classes and objects, how reference variables work, and that all Java classes ultimately extend `Object`.\n"
   ]
  },
  {
   "cell_type": "markdown",
   "id": "2f35f0b8",
   "metadata": {},
   "source": [
    "## 1) Class vs. Object\n",
    "**Class** = blueprint or template.  **Object** = one specific instance built from that blueprint."
   ]
  },
  {
   "cell_type": "markdown",
   "id": "f38d83b3",
   "metadata": {},
   "source": [
    "### Description\n",
    "A class defines **attributes** (instance variables) and **behaviors** (methods). Creating an object with `new` allocates memory and returns a **reference** to that object."
   ]
  },
  {
   "cell_type": "code",
   "execution_count": null,
   "id": "0fa10987",
   "metadata": {
    "language": "java"
   },
   "outputs": [],
   "source": [
    "// Example: simple class + object\n",
    "class Dog {\n",
    "    String name;\n",
    "    int age;\n",
    "    void bark() {\n",
    "        System.out.println(name + \" says woof!\");\n",
    "    }\n",
    "}\n",
    "\n",
    "class Main1 {\n",
    "    public static void main(String[] args) {\n",
    "        Dog myDog = new Dog();   // object created\n",
    "        myDog.name = \"Alo\";\n",
    "        myDog.age = 3;\n",
    "        myDog.bark();\n",
    "    }\n",
    "}\n"
   ]
  },
  {
   "cell_type": "markdown",
   "id": "be296283",
   "metadata": {},
   "source": [
    "## 2) Reference Variables\n",
    "Variables of reference type store the **address (reference)** of an object, not the object itself."
   ]
  },
  {
   "cell_type": "markdown",
   "id": "6b8782c5",
   "metadata": {},
   "source": [
    "### Description\n",
    "Two variables can reference the **same** object. Assigning one reference to another does **not** make a copy of the object. They both will point to the same thing."
   ]
  },
  {
   "cell_type": "code",
   "execution_count": null,
   "id": "b7a7a8b8",
   "metadata": {
    "language": "java"
   },
   "outputs": [],
   "source": [
    "// Example: references point to the same object\n",
    "class Main2 {\n",
    "    public static void main(String[] args) {\n",
    "        Dog d1 = new Dog();\n",
    "        d1.name = \"Kai\";\n",
    "        \n",
    "        Dog d2 = d1;           // both refer to the same Dog\n",
    "        d2.name = \"Kairo\";     // changes seen via d1 too\n",
    "        \n",
    "        System.out.println(d1.name); // prints Kairo\n",
    "    }\n",
    "}\n"
   ]
  },
  {
   "cell_type": "markdown",
   "id": "2c247267",
   "metadata": {},
   "source": [
    "**Key Point**: When Phone p2 = p1;, a second variable is created that points to the same phone object. Changes through one variable affect the other as well."
   ]
  },
  {
   "cell_type": "markdown",
   "id": "4657ce41",
   "metadata": {},
   "source": [
    "## 3) All Classes Are Subclasses of `Object`\n",
    "`Object` is Java's ultimate superclass. Every class directly or indirectly extends it."
   ]
  },
  {
   "cell_type": "markdown",
   "id": "29f36da8",
   "metadata": {},
   "source": [
    "### Description\n",
    "Because of this, every object has methods like `toString()`, `equals(Object)`, and `getClass()` automatically (even if they weren't programmed)."
   ]
  },
  {
   "cell_type": "code",
   "execution_count": null,
   "id": "d06ae7f2",
   "metadata": {
    "language": "java"
   },
   "outputs": [],
   "source": [
    "// Example: methods from Object\n",
    "class Main3 {\n",
    "    public static void main(String[] args) {\n",
    "        Dog x = new Dog();\n",
    "        System.out.println(x.getClass().getName()); // prints class name\n",
    "        System.out.println(x.toString());           // default toString from Object\n",
    "        System.out.println(x instanceof Object);    // true\n",
    "    }\n",
    "}\n"
   ]
  },
  {
   "cell_type": "markdown",
   "id": "f48872b6",
   "metadata": {},
   "source": [
    "**Key Point**: All Java objects inherit from Object, so they all have these built-in methods available."
   ]
  },
  {
   "cell_type": "markdown",
   "id": "19bd390c",
   "metadata": {},
   "source": [
    "## 🍿 Popcorn Hack (one cell)\n",
    "**Task:** Complete the code below.\n",
    "\n",
    "1. Finish the `Book` class by adding a `printInfo()` method that prints title and pages.\n",
    "2. In `Main`, create **one** `Book` object, set its fields, and call `printInfo()`.\n",
    "\n",
    "> Keep it short—this is a quick check that you can define a class and create an instance."
   ]
  },
  {
   "cell_type": "code",
   "execution_count": null,
   "id": "4e33f513",
   "metadata": {
    "language": "java"
   },
   "outputs": [],
   "source": [
    "// TODO: Finish and run in your Java environment\n",
    "class Book {\n",
    "    String title;\n",
    "    int pages;\n",
    "    \n",
    "    // TODO: write printInfo() to show: Title: <title>, Pages: <pages>\n",
    "}\n",
    "\n",
    "class MainPopcorn {\n",
    "    public static void main(String[] args) {\n",
    "        // TODO: make one Book, set its fields, and call printInfo()\n",
    "    }\n",
    "}\n"
   ]
  },
  {
   "cell_type": "markdown",
   "id": "83ae5606",
   "metadata": {},
   "source": [
    "## Quick Self-Check (concepts)\n",
    "1. In one sentence, explain **class vs. object**.\n",
    "2. What does a **reference variable** store?\n",
    "3. Name one method every object has because it extends **`Object`**."
   ]
  }
 ],
 "metadata": {
  "kernelspec": {
   "display_name": "Python 3",
   "language": "python",
   "name": "python3"
  },
  "language_info": {
   "name": "python",
   "version": "3.x"
  }
 },
 "nbformat": 4,
 "nbformat_minor": 5
}
