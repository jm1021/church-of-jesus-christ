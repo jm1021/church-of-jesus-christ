{
 "cells": [
  {
   "cell_type": "raw",
   "id": "45c46435",
   "metadata": {
    "vscode": {
     "languageId": "raw"
    }
   },
   "source": [
    "---\n",
    "layout: post\n",
    "toc: true\n",
    "title: Expressions and Output\n",
    "menu: nav/CSA_Nunits/csaunit1.html\n",
    "permalink: /csa/unit_01/1_3/homework\n",
    "author: Ahaan, Arnav, Shaurya\n",
    "---"
   ]
  },
  {
   "cell_type": "markdown",
   "id": "baecbd6b",
   "metadata": {
    "vscode": {
     "languageId": "raw"
    }
   },
   "source": [
    "## Popcorn Hack 1\n",
    "<div>\n",
    "  <label for=\"frq1\">Recall as many key formatting tools as you can without refering to the above section and list them here. Then, explain what each of them does. Finally, write a line of code using as many of the tools as you can.</label><br>\n",
    "  <textarea id=\"frq1\" rows=\"5\" cols=\"80\"></textarea><br>\n",
    "  <button onclick=\"saveFRQ('frq1')\">💾 Save Answer</button>\n",
    "</div>\n",
    "<script>\n",
    "function saveFRQ(id) {\n",
    "  let val = document.getElementById(id).value;\n",
    "  localStorage.setItem(id, val);\n",
    "  alert(\"Answer saved!\");\n",
    "}\n",
    "window.addEventListener(\"load\", () => {\n",
    "  document.querySelectorAll(\"textarea\").forEach(t => {\n",
    "    let saved = localStorage.getItem(t.id);\n",
    "    if (saved) t.value = saved;\n",
    "  });\n",
    "});\n",
    "</script>\n",
    "<br>"
   ]
  },
  {
   "cell_type": "markdown",
   "id": "9ec563b3",
   "metadata": {},
   "source": [
    "## Popcorn Hack 2\n",
    "<div>\n",
    "  <label for=\"frq2\">What are the formatting tools used here and what is their purpose? How do they make the output cleaner/better?<</label><br>\n",
    "  <textarea id=\"frq2\" rows=\"5\" cols=\"80\"></textarea><br>\n",
    "  <button onclick=\"saveFRQ('frq2')\">💾 Save Answer</button>\n",
    "</div>\n",
    "<script>\n",
    "function saveFRQ(id) {\n",
    "  let val = document.getElementById(id).value;\n",
    "  localStorage.setItem(id, val);\n",
    "  alert(\"Answer saved!\");\n",
    "}\n",
    "window.addEventListener(\"load\", () => {\n",
    "  document.querySelectorAll(\"textarea\").forEach(t => {\n",
    "    let saved = localStorage.getItem(t.id);\n",
    "    if (saved) t.value = saved;\n",
    "  });\n",
    "});\n",
    "</script>\n",
    "<br>"
   ]
  },
  {
   "cell_type": "markdown",
   "id": "5602d328",
   "metadata": {},
   "source": [
    "## Homework Hack 1\n",
    "1. **Predict Output**: What will this print?\n",
    "```java\n",
    "System.out.print(\"AP \");\n",
    "System.out.println(\"CSA\");\n",
    "System.out.println(\"Rocks!\");\n",
    "```\n",
    "\n",
    "2. **Fix the Bug**: The following is supposed to print `C:\\Users\\Student`, but it fails. Correct it:\n",
    "```java\n",
    "System.out.println(\"C:\\Users\\Student\");\n",
    "```\n",
    "\n",
    "3. **Menu Hack**: Add a 4th option (`Settings`) to `Menu.java` and update `optionCount` accordingly.\n",
    "\n",
    "4. **Challenge**: Use `System.out.printf` to print pi with 2 decimals.\n",
    "```java\n",
    "System.out.printf(\"Pi = %.2f\\n\", Math.PI);\n",
    "```"
   ]
  },
  {
   "cell_type": "markdown",
   "id": "d20bf63d",
   "metadata": {},
   "source": [
    "## Homework Hack 2\n",
    "- Expand `Menu.java` into a **calculator menu**:\n",
    "  1. Print a menu with options: `Add`, `Subtract`, `Multiply`, `Divide`.\n",
    "  2. Ask the user for two numbers.\n",
    "  3. Use arithmetic expressions to compute and display the result.\n",
    "  4. Example run:\n",
    "```\n",
    "==== Calculator Menu ====\n",
    "1. Add\n",
    "2. Subtract\n",
    "3. Multiply\n",
    "4. Divide\n",
    "Choose an option: 1\n",
    "Enter first number: 10\n",
    "Enter second number: 5\n",
    "Result: 15\n",
    "```"
   ]
  },
  {
   "cell_type": "markdown",
   "id": "c40315e1",
   "metadata": {},
   "source": [
    "## Homework Hack 3 Game \n",
    "\n",
    "Here is the game that you will also be playing, to test your understanding of the lesson. You will screenshot the game score and submit it to the 1.3 google form (this will alos include 1.4 content, submission is for both)\n",
    "\n",
    "<a href=\"{{site.baseurl}}/csa/1_4/quiz\">1.3 and 1.4 Game</a>"
   ]
  }
 ],
 "metadata": {
  "kernelspec": {
   "display_name": "venv",
   "language": "python",
   "name": "python3"
  },
  "language_info": {
   "codemirror_mode": {
    "name": "ipython",
    "version": 3
   },
   "file_extension": ".py",
   "mimetype": "text/x-python",
   "name": "python",
   "nbconvert_exporter": "python",
   "pygments_lexer": "ipython3",
   "version": "3.12.3"
  }
 },
 "nbformat": 4,
 "nbformat_minor": 5
}
