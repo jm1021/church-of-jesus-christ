{
 "cells": [
  {
   "cell_type": "markdown",
   "id": "b5bfea60",
   "metadata": {},
   "source": [
    "---\n",
    "layout: post\n",
    "toc: true\n",
    "title: Informal Run-Time Analysis\n",
    "menu: nav/CSA_Nunits/csaunit2.html\n",
    "permalink: /csa/unit_02/2_12\n",
    "---"
   ]
  },
  {
   "cell_type": "markdown",
   "id": "fac25f4d",
   "metadata": {},
   "source": [
    "# Informal Code Analysis\n",
    "\n",
    "<b>Learning objective</b>: Compute statement execution counts & informal run-time comparison of iterative statements\n",
    "\n",
    "<b>Essential Knowledge</b>: A statement execution count indicates the number of times a statement is executed by the program"
   ]
  },
  {
   "cell_type": "markdown",
   "id": "514e1ed4",
   "metadata": {},
   "source": [
    "<h3> What IS informal code analysis? </h3>\n",
    "\n",
    "Answer:"
   ]
  },
  {
   "cell_type": "code",
   "execution_count": null,
   "id": "71f52e02",
   "metadata": {
    "vscode": {
     "languageId": "java"
    }
   },
   "outputs": [],
   "source": [
    "// CODE EXAMPLE #1 (for loop)\n",
    "public class InformalCodeAnalysis {\n",
    "    public static void main(String[] args) {\n",
    "        int count = 0;\n",
    "        for (int k = 0; k < 30; k++)\n",
    "        {\n",
    "            if (k % 3 == 0) // statement 1\n",
    "            {\n",
    "                count++; // statement 2\n",
    "            }\n",
    "        }\n",
    "    }\n",
    "}"
   ]
  },
  {
   "cell_type": "markdown",
   "id": "3b0a54ac",
   "metadata": {},
   "source": [
    "<b>How many times will statement 1 execute? </b>\n",
    "\n",
    "Answer:\n",
    "\n",
    "<b>How many times will statement 2 execute?</b>\n",
    "\n",
    "Answer:"
   ]
  },
  {
   "cell_type": "code",
   "execution_count": null,
   "id": "0bacda90",
   "metadata": {
    "vscode": {
     "languageId": "java"
    }
   },
   "outputs": [],
   "source": [
    "<b>How many times will statement 3 execute?</b>\n",
    "\n",
    "Answer:"
   ]
  },
  {
   "cell_type": "code",
   "execution_count": null,
   "id": "b634d447",
   "metadata": {
    "vscode": {
     "languageId": "java"
    }
   },
   "outputs": [],
   "source": [
    "// Rewrite the code segment below to have a faster run-time based on statement execution counts\n",
    "for (int k = 0; k < 135; k++)\n",
    "{\n",
    "    if (k % 5 == 0)\n",
    "    {\n",
    "        System.out.println(k);\n",
    "    }\n",
    "}"
   ]
  },
  {
   "cell_type": "code",
   "execution_count": null,
   "id": "46081b87",
   "metadata": {
    "vscode": {
     "languageId": "java"
    }
   },
   "outputs": [],
   "source": [
    "// CODE EXAMPLE #3 (while loop)\n",
    "\n",
    "int num = (int)(Math.random() * 10);\n",
    "while (num % 2 != 0)\n",
    "{\n",
    "    num = (int)(Math.random() * 10) // statement 4\n",
    "}"
   ]
  },
  {
   "cell_type": "code",
   "execution_count": null,
   "id": "c7493f8c",
   "metadata": {
    "vscode": {
     "languageId": "java"
    }
   },
   "outputs": [],
   "source": [
    "<b>What is the min/max number of times statement 4 will execute?</b>\n",
    "\n",
    "Answer:"
   ]
  },
  {
   "cell_type": "code",
   "execution_count": null,
   "id": "36c988b2",
   "metadata": {
    "vscode": {
     "languageId": "java"
    }
   },
   "outputs": [],
   "source": [
    "// CODE EXAMPLE #4 (nested loop)\n",
    "\n",
    "for (int outer = 0; outer < 3; outer++)\n",
    "{\n",
    "    for (int inner = 0; inner < 4; inner++)\n",
    "    {\n",
    "        // statement #5\n",
    "    }\n",
    "}"
   ]
  }
 ],
 "metadata": {
  "language_info": {
   "name": "python"
  }
 },
 "nbformat": 4,
 "nbformat_minor": 5
}
