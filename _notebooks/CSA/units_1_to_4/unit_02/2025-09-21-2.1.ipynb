{
 "cells": [
  {
   "cell_type": "markdown",
   "id": "882c1d96",
   "metadata": {},
   "source": [
    "---\n",
    "layout: post\n",
    "toc: true\n",
    "title: Algorithms with Selection and Repetition\n",
    "menu: nav/CSA_Nunits/csaunit2.html\n",
    "permalink: /csa/unit_02/2_1\n",
    "---"
   ]
  }
 ],
 "metadata": {
  "language_info": {
   "name": "python"
  }
 },
 "nbformat": 4,
 "nbformat_minor": 5
}
