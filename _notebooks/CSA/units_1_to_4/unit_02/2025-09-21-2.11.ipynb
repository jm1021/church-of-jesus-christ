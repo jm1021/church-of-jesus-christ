{
 "cells": [
  {
   "cell_type": "markdown",
   "id": "1d949357",
   "metadata": {},
   "source": [
    "---\n",
    "layout: post\n",
    "toc: true\n",
    "title: Nested Iteration\n",
    "menu: nav/CSA_Nunits/csaunit2.html\n",
    "permalink: /csa/unit_02/2_11\n",
    "---"
   ]
  },
  {
   "cell_type": "markdown",
   "id": "5f8d2462",
   "metadata": {},
   "source": [
    "# Nested Iteration"
   ]
  },
  {
   "cell_type": "markdown",
   "id": "5205677c",
   "metadata": {},
   "source": [
    "**nested iteration**\n",
    "<details>occurs when we have a loop inside of another loop, similar to nested conditional statements in unit 3"
   ]
  },
  {
   "cell_type": "markdown",
   "id": "1c816a41",
   "metadata": {},
   "source": [
    "When you have one loop inside another, the inner loop has to finish all its rounds before the outer loop moves to the next round. If the inner loop has a \"stop\" command, it only stops for that round of the outer loop. The next time the outer loop starts a new round, the inner loop starts over.\n",
    "\n",
    "If you have two nested loops without stops, and the outer one runs n times while the inner one runs m times each time the outer one goes around, the inner loop will run m times n times, which is m * n times in total. This rule also applies if you have more than two nested loops. To find the total number of times the innermost loop runs, just multiply how many times each loop runs per round."
   ]
  },
  {
   "cell_type": "code",
   "execution_count": null,
   "id": "9ea3cb0d",
   "metadata": {
    "vscode": {
     "languageId": "groovy"
    }
   },
   "outputs": [],
   "source": [
    "public class NestedLoopsDemo {\n",
    "    public static void main(String[] args) {\n",
    "        int n = 3; //numb of times the outside loop runs\n",
    "        int m = 2; //numb of times the inside loop runs\n",
    "\n",
    "        //the nested loops\n",
    "        for (int i = 1; i <= n; i++) {\n",
    "            System.out.println(\"Outer loop iteration: \" + i);\n",
    "            for (int j = 1; j <= m; j++) {\n",
    "                System.out.println(\"Inner loop iteration: \" + j);\n",
    "            }\n",
    "        }\n",
    "    }\n",
    "}\n",
    "NestedLoopsDemo.main(null)"
   ]
  }
 ],
 "metadata": {
  "language_info": {
   "name": "python"
  }
 },
 "nbformat": 4,
 "nbformat_minor": 5
}
