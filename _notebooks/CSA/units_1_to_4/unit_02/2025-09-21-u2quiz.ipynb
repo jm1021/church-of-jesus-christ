{
 "cells": [
  {
   "cell_type": "markdown",
   "id": "95c59622",
   "metadata": {},
   "source": [
    "---\n",
    "layout: post\n",
    "toc: true\n",
    "title: Unit 2 Quiz\n",
    "menu: nav/CSA_Nunits/csaunit2.html\n",
    "permalink: /csa/unit_02/quiz\n",
    "---"
   ]
  }
 ],
 "metadata": {
  "language_info": {
   "name": "python"
  }
 },
 "nbformat": 4,
 "nbformat_minor": 5
}
