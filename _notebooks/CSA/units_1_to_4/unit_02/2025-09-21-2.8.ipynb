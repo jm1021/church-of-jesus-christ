{
 "cells": [
  {
   "cell_type": "markdown",
   "id": "616b68b9",
   "metadata": {},
   "source": [
    "---\n",
    "layout: post\n",
    "toc: true\n",
    "title: for Loops\n",
    "menu: nav/CSA_Nunits/csaunit2.html\n",
    "permalink: /csa/unit_02/2_8\n",
    "---"
   ]
  },
  {
   "cell_type": "markdown",
   "id": "147eeb6b",
   "metadata": {},
   "source": [
    "# 4.2 for Loops"
   ]
  },
  {
   "cell_type": "markdown",
   "id": "b893b1b6",
   "metadata": {},
   "source": [
    "- Iterative statement that checks for condition\n",
    "- Repeatedly execute a a block of code as long as the condition is met\n",
    "- Condition specifies amount of times\n",
    "\n",
    "# for Loops vs. while Loops\n",
    "- while Loops: use when number of iterations is unknown\n",
    "- for Loops: use when number of iterations is known"
   ]
  },
  {
   "cell_type": "code",
   "execution_count": null,
   "id": "c0e51cc7",
   "metadata": {
    "vscode": {
     "languageId": "java"
    }
   },
   "outputs": [],
   "source": [
    "int i = 0;\n",
    "while (i < 5) {\n",
    "    System.out.println(i);\n",
    "    i++;\n",
    "}"
   ]
  },
  {
   "cell_type": "code",
   "execution_count": null,
   "id": "6b9b9eb7",
   "metadata": {
    "vscode": {
     "languageId": "java"
    }
   },
   "outputs": [],
   "source": [
    "for (int i = 0; i < 5; i++) {\n",
    "    System.out.println(i);\n",
    "}"
   ]
  },
  {
   "cell_type": "markdown",
   "id": "f9226dc1",
   "metadata": {},
   "source": [
    "- Three parts in for loop header: variable initialization, Boolean (conditional) expression, and increment/decrement statement\n",
    "\n",
    "Question: Which part is which?\n",
    "\n",
    "- variable initialization (int i=0): sets variable before loop starts\n",
    "- Boolean (conditional) expression (i < 5): defines condition for loop to run, in this case, the loop continues as long as i is less than 5, so loops 5 times i 05\n",
    "- increment/decrement statement (i++): increases variable each time code block in the loop is executed, in this case it increases by 1\n",
    "- variable can be used in the code block for other various reasons besides specifying how many times the loop will repeat\n",
    "- Boolean (conditional) expression and increment/decrement statement together determine how many times the loop will repeat\n"
   ]
  },
  {
   "cell_type": "code",
   "execution_count": null,
   "id": "9433db74",
   "metadata": {
    "vscode": {
     "languageId": "java"
    }
   },
   "outputs": [],
   "source": [
    "\n",
    "int sum = 0;\n",
    "int sum_all = 0;\n",
    "\n",
    "for (int i = 0; i < 10; i++) {\n",
    "    if (i % 2 == 0)\n",
    "        sum += i;\n",
    "    sum_all += i;\n",
    "}\n",
    "\n",
    "System.out.println(sum);\n",
    "System.out.println(sum_all);"
   ]
  }
 ],
 "metadata": {
  "language_info": {
   "name": "python"
  }
 },
 "nbformat": 4,
 "nbformat_minor": 5
}
