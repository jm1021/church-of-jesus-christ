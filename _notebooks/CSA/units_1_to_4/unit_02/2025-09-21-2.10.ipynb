{
 "cells": [
  {
   "cell_type": "markdown",
   "id": "187845a9",
   "metadata": {},
   "source": [
    "---\n",
    "layout: post\n",
    "toc: true\n",
    "title: Implementing String Algorithms\n",
    "menu: nav/CSA_Nunits/csaunit2.html\n",
    "permalink: /csa/unit_02/2_10\n",
    "---"
   ]
  },
  {
   "cell_type": "markdown",
   "id": "58dc957d",
   "metadata": {},
   "source": [
    "# Developing Algorithms Using Strings"
   ]
  },
  {
   "cell_type": "markdown",
   "id": "353bf079",
   "metadata": {},
   "source": [
    "LEARNING OBJECTIVES:\n",
    "For algorithms in the context of a particular specification that involves ```String``` objects:\n",
    "- identify standard algorithms\n",
    "- modify standard algorithms\n",
    "- develop an algorithm\n",
    "\n",
    "\n",
    "**Java has many methods that are helpful when working with strings:**\n",
    "\n",
    "* ```String .substring``` --> retrieves portion of a string\n",
    "* ```String .equals``` --> compares two strings\n",
    "* ```String .length``` --> returns length of a string\n",
    "* ```for Loop``` --> iterating through characters of a string\n",
    "\n",
    "<br>\n",
    "<br>\n",
    "\n",
    "<h3> Finding a substring within a string </h3>\n",
    "\n",
    "We can use the \"window\" method:\n",
    "\n",
    "A \"window\" is created the same length as the substring. We then iterate through the main string in sections and compare to the substring\n",
    "\n",
    "For example:\n",
    "\n",
    "<h3> I T E R A T E </h3>with substring \"ERA\"\n",
    "\n",
    "<br>\n",
    "<br>\n",
    "<br>"
   ]
  },
  {
   "cell_type": "code",
   "execution_count": null,
   "id": "1e74bcdc",
   "metadata": {
    "vscode": {
     "languageId": "java"
    }
   },
   "outputs": [],
   "source": [
    "public class StringFinder {\n",
    "    public static void main(String[] args) {\n",
    "        String word = \"iterate\";\n",
    "        String sub = \"xxx\";\n",
    "        boolean found = false; // will be set to true once substring is found\n",
    "\n",
    "        for (int i = 0; i < word.length(); i++) { //iterating forwards: starting at first index (0) and going to the length of the word.. let's try word.length\n",
    "            String portion = word.substring(i, i + sub.length());\n",
    "            if (sub.length() > portion.length()) break;\n",
    "            if (portion.equals(sub)) { // make sure you use .equals!!\n",
    "                found = true;\n",
    "                break;\n",
    "            }\n",
    "        }\n",
    "\n",
    "        if (found)\n",
    "            System.out.println(\"substring is found within string!\");\n",
    "        else\n",
    "            System.out.println(\"substring is NOT within string\");\n",
    "    }\n",
    "\n",
    "}\n",
    "\n",
    "\n",
    "StringFinder.main(null);"
   ]
  },
  {
   "cell_type": "markdown",
   "id": "08f1a7e6",
   "metadata": {},
   "source": [
    "<h4> POPCORN HACK: Run the code.. what happened? How can we fix it?</h4>\n",
    "\n",
    "Tell us below!\n",
    "\n",
    "<br>\n",
    "<br>\n",
    "\n",
    "<h4> Another issue:</h4>\n",
    "\n",
    "<h3> I T E R A T E </h3>\n",
    "What if our substring was the word \"RATE\"? Note that RATE is at the end of the whole string\n",
    "\n",
    "<br>\n",
    "<br>\n",
    "\n",
    "<h3> HACKS </h3>\n",
    "\n",
    "**Create a algorithm similar to the one above. Except this time, use iteration to count the number of vowels within the main string.**\n",
    "\n",
    "HINT: Use the boolean expressions we have learned in previous lessons. Which would you use when comparing your \"window\" with multiple options of substrings?"
   ]
  }
 ],
 "metadata": {
  "language_info": {
   "name": "python"
  }
 },
 "nbformat": 4,
 "nbformat_minor": 5
}
