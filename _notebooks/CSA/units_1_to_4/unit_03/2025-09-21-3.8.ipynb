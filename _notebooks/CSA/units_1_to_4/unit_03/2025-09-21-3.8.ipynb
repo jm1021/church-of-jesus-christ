{
 "cells": [
  {
   "cell_type": "markdown",
   "id": "141a509d",
   "metadata": {},
   "source": [
    "---\n",
    "layout: post\n",
    "toc: true\n",
    "title: Scope and Access\n",
    "menu: nav/CSA_Nunits/csaunit3.html\n",
    "permalink: /csa/unit_03/3_8\n",
    "---"
   ]
  }
 ],
 "metadata": {
  "language_info": {
   "name": "python"
  }
 },
 "nbformat": 4,
 "nbformat_minor": 5
}
