{
 "cells": [
  {
   "cell_type": "markdown",
   "id": "8239df1c",
   "metadata": {},
   "source": [
    "---\n",
    "layout: post\n",
    "toc: true\n",
    "title: Methods Passing and Returning References of an Object\n",
    "menu: nav/CSA_Nunits/csaunit3.html\n",
    "permalink: /csa/unit_03/3_6\n",
    "---"
   ]
  }
 ],
 "metadata": {
  "language_info": {
   "name": "python"
  }
 },
 "nbformat": 4,
 "nbformat_minor": 5
}
