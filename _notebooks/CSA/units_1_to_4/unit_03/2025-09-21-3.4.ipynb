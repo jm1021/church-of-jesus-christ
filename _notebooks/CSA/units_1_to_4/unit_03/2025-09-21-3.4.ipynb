{
 "cells": [
  {
   "cell_type": "markdown",
   "id": "96ef51cf",
   "metadata": {},
   "source": [
    "---\n",
    "layout: post\n",
    "toc: true\n",
    "title: Constructors\n",
    "menu: nav/CSA_Nunits/csaunit3.html\n",
    "permalink: /csa/unit_03/3_4\n",
    "---"
   ]
  }
 ],
 "metadata": {
  "language_info": {
   "name": "python"
  }
 },
 "nbformat": 4,
 "nbformat_minor": 5
}
