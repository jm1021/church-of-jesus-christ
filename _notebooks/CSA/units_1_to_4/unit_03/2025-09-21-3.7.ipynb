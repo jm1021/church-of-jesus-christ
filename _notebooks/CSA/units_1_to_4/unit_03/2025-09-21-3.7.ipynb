{
 "cells": [
  {
   "cell_type": "markdown",
   "id": "0cbccff1",
   "metadata": {},
   "source": [
    "---\n",
    "layout: post\n",
    "toc: true\n",
    "title: Class Variables and Methods\n",
    "menu: nav/CSA_Nunits/csaunit3.html\n",
    "permalink: /csa/unit_03/3_7\n",
    "---"
   ]
  }
 ],
 "metadata": {
  "language_info": {
   "name": "python"
  }
 },
 "nbformat": 4,
 "nbformat_minor": 5
}
