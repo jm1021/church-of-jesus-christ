{
 "cells": [
  {
   "cell_type": "raw",
   "id": "eca9bc5d",
   "metadata": {},
   "source": [
    "---\n",
    "layout: post\n",
    "title: Overworld Lesson \n",
    "description: Game in game Lesson \n",
    "categories: [Adventure Game]\n",
    "permalink: /advengturegame/overworldlesson\n",
    "authors: [Hope Fune]\n",
    "---"
   ]
  },
  {
   "cell_type": "markdown",
   "id": "21363bcb",
   "metadata": {
    "slideshow": {
     "slide_type": "slide"
    }
   },
   "source": [
    "# Overworld + PlatformerMini\n",
    "\n",
    "**A browser 2D RPG prototype & embedded platformer**\n",
    "\n",
    "*Presenter:* Hope Fune \n",
    "<br>\n",
    "*Audience:* Developers learning to build their own version of a game similar to this \n",
    "\n",
    "---\n",
    "\n",
    "**Run time:** Demo + Important details + Q&A"
   ]
  },
  {
   "cell_type": "markdown",
   "id": "23f7fd87",
   "metadata": {
    "slideshow": {
     "slide_type": "slide"
    }
   },
   "source": [
    "## Agenda\n",
    "\n",
    "1. Quick demo\n",
    "2. Architecture & module overview\n",
    "3. Key patterns & code highlights\n",
    "4. Live demo: Overworld → Platformer\n",
    "5. Performance\n",
    "6. Q&A / Resources"
   ]
  },
  {
   "cell_type": "markdown",
   "id": "5b93444a",
   "metadata": {
    "slideshow": {
     "slide_type": "slide"
    }
   },
   "source": [
    "## Quick demo \n",
    "\n",
    "- Interact with 'portal' NPC \n",
    "- Show enemy Creeper\n",
    "- Show: Walk to Villager, press **E** → start Platformer\n",
    "- Collect sword with **C**, defeat zombie (show red phase + particles)\n"
   ]
  },
  {
   "cell_type": "markdown",
   "id": "a2ece5de",
   "metadata": {
    "slideshow": {
     "slide_type": "slide"
    }
   },
   "source": [
    "\n",
    "## Architecture & Modules\n",
    "\n",
    "- **GameLevelOverworld**: main level — constructs `sprite_data_*` objects and registers classes.\n",
    "\n",
    "- **Sprite modules**: `Background`, `Player`, `Npc`, `Creeper`, `GameControl` — small, focused classes.\n",
    "\n",
    "- **PlatformerMini**: self-contained mini-game with its own overlay canvas (`start()/stop()/loop()` lifecycle).\n",
    "\n",
    "- **Communication**: `gameEnv` + `gameEnv.gameObjects` used as the shared, global registry.\n",
    "\n",
    "**Why this matters:** Small, focused modules make prototyping fast and let you reuse systems (dialogue UI, sprite configs, particle effects) across levels.\n"
   ]
  },
  {
   "cell_type": "markdown",
   "id": "893f4150",
   "metadata": {
    "slideshow": {
     "slide_type": "slide"
    }
   },
   "source": [
    "\n",
    "## Core Design Patterns\n",
    "\n",
    "- **Data-driven sprites**: configuration objects (e.g., `sprite_data_player`) store assets + behavior flags.\n",
    "\n",
    "- **Separation of concerns**: Canvas for rendering, DOM overlays for UI/dialogue, and intervals/rAF for animation loops.\n",
    "\n",
    "- **Defensive rendering**: `.complete`, `.loadFailed` checks and `try/catch` in draw functions.\n",
    "\n",
    "- **Debounced collision checks**: `lastCollisionCheck` prevents thrashing.\n",
    "\n",
    "- **Modal mini-game lifecycle**: `pauseRpg()` + `PlatformerMini.start()` pattern.\n"
   ]
  },
  {
   "cell_type": "markdown",
   "id": "e0f696d4",
   "metadata": {
    "slideshow": {
     "slide_type": "slide"
    }
   },
   "source": [
    "\n",
    "## Gameplay Mechanics \n",
    "\n",
    "- **Player movement & bounds** — `sprite_data_player.canMoveTo(...)` and `PlatformerMini.update()` keyboard handling.\n",
    "\n",
    "- **Creeper** — movement with `updatePosition()`, `playAnimation()`, `checkPlayerCollision()` → `explode()`.\n",
    "\n",
    "- **NPC → mini-game** — `sprite_data_villager.interact()` opens dialogue and calls `platformerMini.start()`.\n",
    "\n",
    "- **Platformer interactions** — collectible (sword) gating enemy defeat and `startZombieDeathAnimation()`.\n"
   ]
  },
  {
   "cell_type": "markdown",
   "id": "aeebbc0d",
   "metadata": {
    "slideshow": {
     "slide_type": "slide"
    }
   },
   "source": [
    "## Live Code Snippets\n"
   ]
  },
  {
   "cell_type": "code",
   "execution_count": null,
   "id": "e6d628e6",
   "metadata": {
    "vscode": {
     "languageId": "javascript"
    }
   },
   "outputs": [],
   "source": [
    "%%js\n",
    "\n",
    "// sprite_data_player (JavaScript - abbreviated)\n",
    "const sprite_data_player = {\n",
    "  id: 'Player',\n",
    "  greeting: 'I am Steve.',\n",
    "  src: `${path}/images/gamify/steve.png`,\n",
    "  SCALE_FACTOR: 5,\n",
    "  ANIMATION_RATE: 50,\n",
    "  pixels: { height: 1500, width: 600 },\n",
    "  INIT_POSITION: { x: 0, y: window.innerHeight - (window.innerHeight / 5) - 40 },\n",
    "  hitbox: { widthPercentage: 0.45, heightPercentage: 0.2 },\n",
    "  keypress: { up: 87, left: 65, down: 83, right: 68 },\n",
    "  velocity: { x: 5, y: 5 },\n",
    "\n",
    "  // Bounds check: returns true if newX/newY keep the sprite inside canvas\n",
    "  canMoveTo(newX, newY, canvasWidth, canvasHeight) {\n",
    "    const leftBound = 0;\n",
    "    const rightBound = canvasWidth - (this.pixels.width / this.SCALE_FACTOR);\n",
    "    const topBound = 0;\n",
    "    const bottomBound = canvasHeight - (this.pixels.height / this.SCALE_FACTOR);\n",
    "    if (newX < leftBound || newX > rightBound) return false;\n",
    "    if (newY < topBound || newY > bottomBound) return false;\n",
    "    return true;\n",
    "  }\n",
    "};\n"
   ]
  },
  {
   "cell_type": "markdown",
   "id": "555d2d96",
   "metadata": {},
   "source": [
    "\n",
    "### Explanation — `sprite_data_player` (JavaScript)\n",
    "\n",
    "- **Purpose:** A data-driven configuration object that describes the player's sprite, sizing, input mapping, and a small method for bounds checking.\n",
    "- **Key fields:**\n",
    "  - `src`, `pixels`, `SCALE_FACTOR` — used to compute on-screen size from the spritesheet's pixel dimensions.\n",
    "  - `INIT_POSITION` — computed here from `window.innerHeight` so the sprite spawns near the bottom of the screen.\n",
    "  - `hitbox` — percentages used later to compute collision boxes smaller than the full image for fairer collisions.\n",
    "  - `keypress` — numeric key codes for movement; keeps input mapping in data rather than scattering it across code.\n",
    "- **Method `canMoveTo(...)`:** centralizes boundary logic so movement code can call `if (sprite_data_player.canMoveTo(x,y,w,h)) move();` — this reduces duplication and bugs.\n",
    "- **Why JS object?** Data-driven objects allow designers to tweak values (scale, speed, positions) without changing engine logic.\n"
   ]
  },
  {
   "cell_type": "code",
   "execution_count": null,
   "id": "a276c275",
   "metadata": {
    "vscode": {
     "languageId": "javascript"
    }
   },
   "outputs": [],
   "source": [
    "%%js \n",
    "\n",
    "// Simplified checkPlayerCollision (JavaScript - abbreviated)\n",
    "function checkPlayerCollision(creeper, player) {\n",
    "  // Skip if already exploded\n",
    "  if (creeper.hasExploded) return false;\n",
    "\n",
    "  // Throttle checks to once per 100ms to avoid heavy CPU use\n",
    "  const now = Date.now();\n",
    "  if (now - (creeper.lastCollisionCheck || 0) < 100) return false;\n",
    "  creeper.lastCollisionCheck = now;\n",
    "\n",
    "  // Compute rects (use whichever coordinate system your engine uses)\n",
    "  const creeperRect = {\n",
    "    left: creeper.x + 40,\n",
    "    right: creeper.x + (creeper.width / creeper.scale) - 40,\n",
    "    top: creeper.y + 40,\n",
    "    bottom: creeper.y + (creeper.height / creeper.scale) - 40\n",
    "  };\n",
    "\n",
    "  const playerRect = {\n",
    "    left: player.x,\n",
    "    right: player.x + player.width,\n",
    "    top: player.y,\n",
    "    bottom: player.y + player.height\n",
    "  };\n",
    "\n",
    "  // Axis-Aligned Bounding Box overlap test\n",
    "  const isOverlapping =\n",
    "    creeperRect.left < playerRect.right &&\n",
    "    creeperRect.right > playerRect.left &&\n",
    "    creeperRect.top < playerRect.bottom &&\n",
    "    creeperRect.bottom > playerRect.top;\n",
    "\n",
    "  if (isOverlapping && !creeper.isColliding) {\n",
    "    creeper.isColliding = true;\n",
    "    creeper.explode(); // Trigger explosion routine\n",
    "    return true;\n",
    "  } else if (!isOverlapping && creeper.isColliding) {\n",
    "    // Player moved away — reset flag so future collisions re-trigger\n",
    "    creeper.isColliding = false;\n",
    "  }\n",
    "\n",
    "  return false;\n",
    "}\n"
   ]
  },
  {
   "cell_type": "markdown",
   "id": "756bb5c0",
   "metadata": {},
   "source": [
    "\n",
    "### Explanation — `checkPlayerCollision` (JavaScript)\n",
    "\n",
    "- **Purpose:** Detects collision between Creeper and Player with a simple AABB (axis-aligned bounding box) test and debounces repeated checks.\n",
    "\n",
    "- **Why throttle?** Collision checks can run many times per second; the `lastCollisionCheck` guard reduces redundant work and prevents repeated explosion triggers within a short timeframe.\n",
    "\n",
    "- **Collision margin:** Subtracting/adding `40` pixels (collisionMargin) tightens the effective hitbox to avoid unfair instant collisions when sprites are visually close but not logically touching.\n",
    "\n",
    "- **State flags:** `hasExploded` prevents re-triggering the explosion routine; `isColliding` tracks when the overlap is continuous so explosion only starts on the transition from non-overlap → overlap.\n",
    "\n",
    "- **Integration tip:** Keep your `player` and `creeper` coordinates in the same space (world vs screen). If you must mix DOM and canvas, centralize conversion functions (e.g., `toCanvasCoords(element)`).\n"
   ]
  },
  {
   "cell_type": "code",
   "execution_count": null,
   "id": "dfd25235",
   "metadata": {
    "vscode": {
     "languageId": "javascript"
    }
   },
   "outputs": [],
   "source": [
    "%%js\n",
    "\n",
    "// PlatformerMini lifecycle (JavaScript - abbreviated)\n",
    "class PlatformerMini {\n",
    "  constructor(gameEnv) {\n",
    "    this.gameEnv = gameEnv;\n",
    "    this.isRunning = false;\n",
    "    this.canvas = null;\n",
    "    this.ctx = null;\n",
    "    this.animationFrameId = null;\n",
    "  }\n",
    "\n",
    "  start() {\n",
    "    if (this.isRunning) return;\n",
    "    this.isRunning = true;\n",
    "\n",
    "    // Create overlay canvas\n",
    "    this.canvas = document.createElement('canvas');\n",
    "    this.canvas.id = 'platformerMiniCanvas';\n",
    "    this.canvas.width = window.innerWidth;\n",
    "    this.canvas.height = window.innerHeight;\n",
    "    Object.assign(this.canvas.style, {\n",
    "      position: 'fixed',\n",
    "      top: '0',\n",
    "      left: '0',\n",
    "      zIndex: '10000',\n",
    "      backgroundColor: 'rgba(135, 206, 235, 1)'\n",
    "    });\n",
    "    document.body.appendChild(this.canvas);\n",
    "    this.ctx = this.canvas.getContext('2d');\n",
    "\n",
    "    // Setup input handlers (store bound refs so we can remove them later)\n",
    "    this._keyDown = this.keyDownHandler.bind(this);\n",
    "    this._keyUp = this.keyUpHandler.bind(this);\n",
    "    window.addEventListener('keydown', this._keyDown);\n",
    "    window.addEventListener('keyup', this._keyUp);\n",
    "\n",
    "    // Start the main loop\n",
    "    this.loop();\n",
    "  }\n",
    "\n",
    "  stop() {\n",
    "    if (!this.isRunning) return;\n",
    "    this.isRunning = false;\n",
    "\n",
    "    // Remove listeners and canvas\n",
    "    window.removeEventListener('keydown', this._keyDown);\n",
    "    window.removeEventListener('keyup', this._keyUp);\n",
    "\n",
    "    if (this.canvas && this.canvas.parentNode) {\n",
    "      this.canvas.parentNode.removeChild(this.canvas);\n",
    "      this.canvas = null;\n",
    "      this.ctx = null;\n",
    "    }\n",
    "\n",
    "    if (this.animationFrameId) {\n",
    "      cancelAnimationFrame(this.animationFrameId);\n",
    "      this.animationFrameId = null;\n",
    "    }\n",
    "  }\n",
    "\n",
    "  loop() {\n",
    "    if (!this.isRunning) return;\n",
    "    this.update(); // game logic\n",
    "    this.draw();   // rendering\n",
    "    this.animationFrameId = requestAnimationFrame(() => this.loop());\n",
    "  }\n",
    "\n",
    "  // Placeholders for handlers\n",
    "  keyDownHandler(e) { /* handle inputs */ }\n",
    "  keyUpHandler(e) { /* handle inputs */ }\n",
    "  update() { /* update positions, physics */ }\n",
    "  draw() { /* draw background, player, enemies */ }\n",
    "}\n"
   ]
  },
  {
   "cell_type": "markdown",
   "id": "a01dce3c",
   "metadata": {},
   "source": [
    "\n",
    "### Explanation — `PlatformerMini` lifecycle (JavaScript)\n",
    "\n",
    "- **Purpose:** Shows the standard modal mini-game pattern: create an overlay canvas, attach input handlers, run an rAF loop, and clean up on exit.\n",
    "\n",
    "- **Key ideas:**\n",
    "  - **Bound handlers:** store the bound function references (`this._keyDown`) so `removeEventListener` works correctly — a common source of leaks/bugs is removing a different function than the one added.\n",
    "  - **Overlay canvas:** using a fixed-position canvas isolates the mini-game visually and input-wise from the main overworld. Use `z-index` to ensure it sits above UI but below dialog overlays if needed.\n",
    "  - **requestAnimationFrame loop:** preferred over `setInterval` for smooth frame pacing and to allow browsers to throttle when tabs are inactive.\n",
    "  - **Safe teardown:** always cancel rAF and remove DOM nodes/listeners to avoid leaked references and stray updates after exit.\n",
    "  \n",
    "- **Reuse tip:** Expose `onExit` or a promise to notify the caller when the mini-game finishes so the main game can resume cleanly.\n"
   ]
  },
  {
   "cell_type": "markdown",
   "id": "c3c4dafc",
   "metadata": {},
   "source": [
    "## Practical Tips \n",
    "\n",
    "- **Keep your world consistent:**  \n",
    "  Make sure everything in your game (players, enemies, and backgrounds), uses the same “map” or coordinate system.  \n",
    "  If you use both the **canvas** and regular **web page elements (DOM)**, convert their positions carefully so things line up correctly.\n",
    "\n",
    "- **Check if images are ready before using them:**  \n",
    "  Before drawing pictures or sprites, make sure they’ve finished loading by checking `img.complete`.  \n",
    "  This prevents errors or missing graphics while your game runs.\n",
    "\n",
    "- **Load everything first:**  \n",
    "  Try to **preload** your images, sounds, and data before starting the level.  \n",
    "  This helps your game feel smoother and prevents lag when something new appears.\n",
    "\n",
    "- **Start simple with visuals:**  \n",
    "  When testing cool effects (like explosions or sparkles), you can first use regular HTML boxes (`<div>`s).  \n",
    "  Later, move those effects into the **canvas** or use **object pooling** if you need better performance.\n",
    "\n",
    "- **Don't Commit unless you know it is working:** \n",
    "  You can do this by using make, as you were taught. Add things one by one! For example, if you add an NPC and it works, thats when you commit it. If it doesn't work, keep running it through make until it does!\n"
   ]
  },
  {
   "cell_type": "markdown",
   "id": "e7378cf2",
   "metadata": {
    "slideshow": {
     "slide_type": "slide"
    }
   },
   "source": [
    "## Performance & Optimization Tips \n",
    "\n",
    "- **Use `requestAnimationFrame` for smoother motion:**  \n",
    "  Instead of using `setInterval`, use `requestAnimationFrame` when making things move or animate.  \n",
    "  It keeps your game running in sync with the screen’s refresh rate, which makes animations look smoother.\n",
    "\n",
    "- **Make particles faster with canvas:**  \n",
    "  If you have lots of small effects (like sparks or explosions), using too many HTML elements (`<div>`s) can slow things down.  \n",
    "  Drawing them on the **canvas** instead — and reusing (pooling) them — helps your game run faster and use less memory.\n",
    "\n",
    "- **Keep your math organized:**  \n",
    "  Use one system for positions and movement (like “world coordinates”) and stick to it.  \n",
    "  Don’t mix up screen positions from `getBoundingClientRect()` with your game’s own coordinates — it’ll make collisions and movement more accurate and easier to manage.\n",
    "\n",
    "- **Use browser tools to check performance:**  \n",
    "  Open your browser’s **developer tools** and look at things like frame rate (FPS), paint time, and memory use.  \n",
    "  This helps you spot what’s slowing your game down and fix it early.\n"
   ]
  },
  {
   "cell_type": "markdown",
   "id": "3804b5a7",
   "metadata": {
    "slideshow": {
     "slide_type": "slide"
    }
   },
   "source": [
    "## Pitfalls & Quick Fixes \n",
    "\n",
    "- **Event listeners not removing correctly:**  \n",
    "  When you add event listeners (like key presses), make sure you save the exact function you used to add them.  \n",
    "  You have to use the same reference when removing them — otherwise, they stay active and can cause bugs or weird behavior.\n",
    "\n",
    "- **Unreliable collision checks:**  \n",
    "  Don’t rely on the browser’s element positions (like `getBoundingClientRect()`) for hit detection.  \n",
    "  Instead, keep all your objects (player, enemies, walls) in the same shared coordinate system inside your `gameEnv`.  \n",
    "  This keeps collision math consistent and easier to manage.\n",
    "\n",
    "- **Game restarting too harshly:**  \n",
    "  Try not to use `window.location.reload()` to restart the game.  \n",
    "  Instead, make a **soft reset** — clear the current level, reset positions and variables, and start again smoothly without reloading the whole page.\n",
    "\n",
    "- **Images or sounds not loading:**  \n",
    "  Sometimes assets fail to load, especially if the file path is wrong or loads too slowly.  \n",
    "  Always check if an image is ready before drawing it, and if it’s missing, show a simple backup or “loading” message instead of letting the game crash.\n"
   ]
  },
  {
   "cell_type": "markdown",
   "id": "92fe5c2b",
   "metadata": {
    "slideshow": {
     "slide_type": "slide"
    }
   },
   "source": [
    "## UX & Accessibility Tips \n",
    "\n",
    "- **Show important info on-screen:**  \n",
    "  Add a simple HUD (Heads-Up Display) that tells players what to do, what items they’ve collected, and how to play.  \n",
    "  This keeps players from getting confused or lost during the game.\n",
    "\n",
    "- **Let players customize controls:**  \n",
    "  Allow players to change which keys they use to move or interact.  \n",
    "  On phones or tablets, include easy-to-tap on-screen buttons so everyone can play comfortably.\n",
    "\n",
    "- **Add sound and graphics options:**  \n",
    "  Include buttons to turn music or sound effects on and off.  \n",
    "  Also, let players lower the number of visual effects (like particles or flashes) if their device is slower.\n",
    "\n",
    "- **Make the game easy to understand and use:**  \n",
    "  Show short hints like “Press E to interact” or “Use arrow keys to move.”  \n",
    "  Make buttons big enough so they’re easy to click or tap — this helps all players, especially on mobile or touchscreens.\n"
   ]
  }
 ],
 "metadata": {
  "language_info": {
   "name": "python"
  }
 },
 "nbformat": 4,
 "nbformat_minor": 5
}
