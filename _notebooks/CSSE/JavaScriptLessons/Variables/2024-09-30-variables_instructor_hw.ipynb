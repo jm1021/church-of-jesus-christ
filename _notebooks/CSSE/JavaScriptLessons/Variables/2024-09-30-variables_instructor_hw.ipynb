{
 "cells": [
  {
   "cell_type": "raw",
   "metadata": {
    "vscode": {
     "languageId": "raw"
    }
   },
   "source": [
    "---\n",
    "layout: post\n",
    "title: JavaScript Variables and HTML DOM Homework\n",
    "description: Perform variables and HTML DOM homework using this notebook.\n",
    "permalink: /javascript/variables-instructor-hw\n",
    "author: John Mortensen\n",
    "---"
   ]
  },
  {
   "cell_type": "markdown",
   "metadata": {},
   "source": [
    "## JavaScript Variables: Homework Notbook`\n",
    "\n",
    "Use this Notbook to perform JavaScript Variable Homework Hacks.\n",
    "\n",
    "---"
   ]
  },
  {
   "cell_type": "code",
   "execution_count": null,
   "metadata": {
    "vscode": {
     "languageId": "javascript"
    }
   },
   "outputs": [
    {
     "data": {
      "application/javascript": "\n/*\nLet-Const Homework Instructions:\n- Review the code in `hacks/snake.md`.\n- Identify at least one primitive type and one reference type variable used in the game.\n- For each, run a code snippet to explain why you think `let` or `const` was chosen.\n- Reflect: How might changing a variable’s declaration (from `let` to `const` or vice versa) impact the game’s operation?\n- Reflect: How might changing a variable's value change the game's behavior?\n*/\n",
      "text/plain": [
       "<IPython.core.display.Javascript object>"
      ]
     },
     "metadata": {},
     "output_type": "display_data"
    }
   ],
   "source": [
    "%%javascript\n",
    "\n",
    "/*\n",
    "Let-Const Homework Instructions:\n",
    "- Review the code in `hacks/snake.md`.\n",
    "- Identify at least one primitive type and one reference type variable used in the game.\n",
    "- For each, add andrun a code snippet to explain why you think `let` or `const` was chosen.\n",
    "- Reflect: How might changing a variable’s declaration (from `let` to `const` or vice versa) impact the game’s operation?\n",
    "- Reflect: How might changing a variable's value change the game's behavior?\n",
    "*/"
   ]
  },
  {
   "cell_type": "code",
   "execution_count": null,
   "metadata": {
    "vscode": {
     "languageId": "javascript"
    }
   },
   "outputs": [
    {
     "data": {
      "application/javascript": "\n/*\nAdd-Lives Homework Instructions:\n- Add lives to player\n- Reflect: Did adding lives impact the enemy? Why or why not?\n- Add lives to enemy \n- Reflect: How can values be the same for both player and enemy? Without duplicating assignments?\n- Reflect: How can you have default values for lives, but also allow for custom values?\n*/\n\nlet gameSpeed = 10; // Global game speed variable\n\n// Example of a class representing a game object\nclass GameObject {\n  constructor(image, width, height, speedRatio = 0, x = 0, y = 0) {\n    // Using 'this' to define properties of the class instance\n    this.image = image;\n    this.width = width;\n    this.height = height;\n    this.speedRatio = speedRatio;\n    // Position coordinates of the object are set to default values if arguments are not provided\n    this.x = x;\n    this.y = y;\n    // Speed is calculated based on the global game speed and the object's speed ratio\n    this.speed = gameSpeed * this.speedRatio;\n  }\n}\n\nconst player  = new GameObject('player.png', 50, 50, 1.5 );\nconsole.log(\"Player Object (Class Instance):\", player, \"Type:\", typeof player);\n// Object reference\nconsole.log(\"Player Image:\", player.image);\n\nconst enemy = new GameObject('enemy.png', 40, 40, 1.0, 100, 150);\nconsole.log(\"Enemy Object (Class Instance):\", enemy, \"Type:\", typeof enemy);\n// Object reference\nconsole.log(\"Enemy Position:\", `(${enemy.x}, ${enemy.y})`);\nenemy.x += enemy.speed; // Move enemy based on its speed\nconsole.log(\"Enemy New Position after moving:\", `(${enemy.x}, ${enemy.y})`);\n",
      "text/plain": [
       "<IPython.core.display.Javascript object>"
      ]
     },
     "metadata": {},
     "output_type": "display_data"
    }
   ],
   "source": [
    "%%js\n",
    "\n",
    "/*\n",
    "Add-Lives Homework Instructions:\n",
    "- Add lives to player\n",
    "- Reflect: Did adding lives impact the enemy? Why or why not?\n",
    "- Add lives to enemy \n",
    "- Reflect: How can values be the same for both player and enemy? Without duplicating assignments?\n",
    "- Reflect: How can you have default values for lives, but also allow for custom values?\n",
    "*/\n",
    "\n",
    "let gameSpeed = 10; // Global game speed variable\n",
    "\n",
    "// Example of a class representing a game object\n",
    "class GameObject {\n",
    "  constructor(image, width, height, speedRatio = 0, x = 0, y = 0) {\n",
    "    // Using 'this' to define properties of the class instance\n",
    "    this.image = image;\n",
    "    this.width = width;\n",
    "    this.height = height;\n",
    "    this.speedRatio = speedRatio;\n",
    "    // Position coordinates of the object are set to default values if arguments are not provided\n",
    "    this.x = x;\n",
    "    this.y = y;\n",
    "    // Speed is calculated based on the global game speed and the speed ratio\n",
    "    this.speed = gameSpeed * this.speedRatio;\n",
    "  }\n",
    "}\n",
    "\n",
    "const player  = new GameObject('player.png', 50, 50, 1.5 );\n",
    "console.log(\"Player Object (Class Instance):\", player, \"Type:\", typeof player);\n",
    "// Object reference\n",
    "console.log(\"Player Image:\", player.image);\n",
    "\n",
    "const enemy = new GameObject('enemy.png', 40, 40, 1.0, 100, 150);\n",
    "console.log(\"Enemy Object (Class Instance):\", enemy, \"Type:\", typeof enemy);\n",
    "// Object reference\n",
    "console.log(\"Enemy Position:\", `(${enemy.x}, ${enemy.y})`);\n",
    "enemy.x += enemy.speed; // Move enemy based on its speed\n",
    "console.log(\"Enemy New Position after moving:\", `(${enemy.x}, ${enemy.y})`);"
   ]
  },
  {
   "cell_type": "code",
   "execution_count": null,
   "metadata": {
    "vscode": {
     "languageId": "html"
    }
   },
   "outputs": [
    {
     "data": {
      "text/html": [
       "\n",
       "<!--\n",
       "- Comment the code for Button 2 (Size Change) \n",
       "- Comment the code for Button 3 (Clicker Box).\n",
       "- Add a 4th button, and make it do something new when clicked \n",
       "  - change background\n",
       "  - highlight the text \n",
       "- Comment your new button code\n",
       "-->\n",
       "\n",
       "<!-- Button Container  -->\n",
       "<div style=\"display: flex; flex-wrap: wrap; gap: 10px;\">\n",
       "    <a style=\"text-decoration: none;\">\n",
       "        <!-- Color Change Button with id -->\n",
       "        <div id=\"color-btn\" style=\"background-color: #00FF00; color: white; padding: 10px 20px; border-radius: 5px; font-weight: bold; cursor: pointer;\">\n",
       "            Color Change\n",
       "        </div>\n",
       "    </a>\n",
       "    <a style=\"text-decoration: none;\">\n",
       "        <!-- Size Change Button with id -->\n",
       "        <div id=\"size-btn\" style=\"background-color: #FF0000; color: white; padding: 10px 20px; border-radius: 5px; font-weight: bold; cursor: pointer;\">\n",
       "            Size Change\n",
       "        </div>\n",
       "    </a>\n",
       "    <a style=\"text-decoration: none;\">\n",
       "        <!-- Clicker Box with id -->\n",
       "        <div id=\"clicker-box\" style=\"background-color: #12ABFF; color: white; padding: 10px 20px; border-radius: 5px; font-weight: bold; cursor: pointer;\">\n",
       "            Clicks: <span id=\"click-count\">0</span>\n",
       "        </div>\n",
       "    </a>\n",
       "</div>\n",
       "\n",
       "<script>\n",
       "// All JS code inside a function to allow multiple runs in Jupyter Notebook without conflicts \n",
       "(function() {\n",
       "\n",
       "  // 1. Color Change\n",
       "  // Define const variable for the color button by its ID\n",
       "  const colorBtn = document.getElementById('color-btn'); \n",
       "  // Define isWhite variable to track current color state\n",
       "  let isWhite = true;\n",
       "  // Define an event listener for the button click event\n",
       "  colorBtn.addEventListener('click', function() {\n",
       "      // Tooggle the button text color between white and black\n",
       "      colorBtn.style.color = isWhite ? 'black' : 'white'; \n",
       "      isWhite = !isWhite; // Toggle to opposite state\n",
       "  });\n",
       "\n",
       "  // 2. Size Change\n",
       "  const sizeBtn = document.getElementById('size-btn');\n",
       "  let isLarge = false;\n",
       "  sizeBtn.addEventListener('click', function() {\n",
       "      if (isLarge) {\n",
       "          sizeBtn.style.padding = '10px 20px';\n",
       "          sizeBtn.style.fontSize = '1em';\n",
       "      } else {\n",
       "          sizeBtn.style.padding = '20px 40px';\n",
       "          sizeBtn.style.fontSize = '1.5em';\n",
       "      }\n",
       "      isLarge = !isLarge;\n",
       "  });\n",
       "\n",
       "  // 3. Clicker Box (Cookie Clicker)\n",
       "  const clickerBox = document.getElementById('clicker-box');\n",
       "  const clickCount = document.getElementById('click-count');\n",
       "  let count = 0;\n",
       "  clickerBox.addEventListener('click', function() {\n",
       "      clickCount.textContent = ++count; \n",
       "  });\n",
       "\n",
       "})(); // End Jupyter Notebook required function()\n",
       "</script>\n"
      ],
      "text/plain": [
       "<IPython.core.display.HTML object>"
      ]
     },
     "metadata": {},
     "output_type": "display_data"
    }
   ],
   "source": [
    "%%html\n",
    "\n",
    "<!--\n",
    "Add-Button Homework Instructions:\n",
    "- Comment the code for Button 2 (Size Change) \n",
    "- Comment the code for Button 3 (Clicker Box).\n",
    "- Add a 4th button, and make it do something new when clicked \n",
    "  - change background\n",
    "  - highlight the text \n",
    "- Comment your new button code\n",
    "-->\n",
    "\n",
    "<!-- Button Container  -->\n",
    "<div style=\"display: flex; flex-wrap: wrap; gap: 10px;\">\n",
    "    <a style=\"text-decoration: none;\">\n",
    "        <!-- Color Change Button with id -->\n",
    "        <div id=\"color-btn\" style=\"background-color: #00FF00; color: white; padding: 10px 20px; border-radius: 5px; font-weight: bold; cursor: pointer;\">\n",
    "            Color Change\n",
    "        </div>\n",
    "    </a>\n",
    "    <a style=\"text-decoration: none;\">\n",
    "        <!-- Size Change Button with id -->\n",
    "        <div id=\"size-btn\" style=\"background-color: #FF0000; color: white; padding: 10px 20px; border-radius: 5px; font-weight: bold; cursor: pointer;\">\n",
    "            Size Change\n",
    "        </div>\n",
    "    </a>\n",
    "    <a style=\"text-decoration: none;\">\n",
    "        <!-- Clicker Box with id -->\n",
    "        <div id=\"clicker-box\" style=\"background-color: #12ABFF; color: white; padding: 10px 20px; border-radius: 5px; font-weight: bold; cursor: pointer;\">\n",
    "            Clicks: <span id=\"click-count\">0</span>\n",
    "        </div>\n",
    "    </a>\n",
    "</div>\n",
    "\n",
    "<script>\n",
    "// All JS code inside a function to allow multiple runs in Jupyter Notebook without conflicts \n",
    "(function() {\n",
    "\n",
    "  // 1. Color Change\n",
    "  // Define const variable for the color button by its ID\n",
    "  const colorBtn = document.getElementById('color-btn'); \n",
    "  // Define isWhite variable to track current color state\n",
    "  let isWhite = true;\n",
    "  // Define an event listener for the button click event\n",
    "  colorBtn.addEventListener('click', function() {\n",
    "      // Tooggle the button text color between white and black\n",
    "      colorBtn.style.color = isWhite ? 'black' : 'white'; \n",
    "      isWhite = !isWhite; // Toggle to opposite state\n",
    "  });\n",
    "\n",
    "  // 2. Size Change\n",
    "  const sizeBtn = document.getElementById('size-btn');\n",
    "  let isLarge = false;\n",
    "  sizeBtn.addEventListener('click', function() {\n",
    "      if (isLarge) {\n",
    "          sizeBtn.style.padding = '10px 20px';\n",
    "          sizeBtn.style.fontSize = '1em';\n",
    "      } else {\n",
    "          sizeBtn.style.padding = '20px 40px';\n",
    "          sizeBtn.style.fontSize = '1.5em';\n",
    "      }\n",
    "      isLarge = !isLarge;\n",
    "  });\n",
    "\n",
    "  // 3. Clicker Box (Cookie Clicker)\n",
    "  const clickerBox = document.getElementById('clicker-box');\n",
    "  const clickCount = document.getElementById('click-count');\n",
    "  let count = 0;\n",
    "  clickerBox.addEventListener('click', function() {\n",
    "      clickCount.textContent = ++count; \n",
    "  });\n",
    "\n",
    "})(); // End Jupyter Notebook required function()\n",
    "</script>"
   ]
  }
 ],
 "metadata": {
  "kernelspec": {
   "display_name": "venv (3.13.7)",
   "language": "python",
   "name": "python3"
  },
  "language_info": {
   "codemirror_mode": {
    "name": "ipython",
    "version": 3
   },
   "file_extension": ".py",
   "mimetype": "text/x-python",
   "name": "python",
   "nbconvert_exporter": "python",
   "pygments_lexer": "ipython3",
   "version": "3.13.7"
  }
 },
 "nbformat": 4,
 "nbformat_minor": 2
}
