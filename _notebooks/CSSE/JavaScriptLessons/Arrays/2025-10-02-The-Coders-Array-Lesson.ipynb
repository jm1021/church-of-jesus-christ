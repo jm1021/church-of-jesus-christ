{
 "cells": [
  {
   "cell_type": "code",
   "execution_count": null,
   "id": "5440df11",
   "metadata": {
    "vscode": {
     "languageId": "plaintext"
    }
   },
   "outputs": [],
   "source": [
    "---\n",
    "title: The Coders - CSSE Arrays Definiton Lesson\n",
    "comments: true\n",
    "layout: post\n",
    "permalink: /javascript/array/lesson\n",
    "category: JavaScript \n",
    "description: Complete guide to Arrays - Definition, examples, and operations\n",
    "author: The Coders\n",
    "---"
   ]
  },
  {
   "cell_type": "markdown",
   "id": "ea667b4c",
   "metadata": {},
   "source": [
    "<style>\n",
    "/* Array Blog Theme - Indigo Purple to Navy Blue - Extended */\n",
    "#arrays-blog-card{max-width:980px;margin:18px auto;padding:26px;border-radius:14px;background:linear-gradient(180deg,#4c1d95 0%,#1e1b4b 100%);box-shadow:0 18px 40px rgba(30,27,75,0.6);font-family:Inter,ui-sans-serif,system-ui,-apple-system,\"Segoe UI\",Roboto,'Helvetica Neue',Arial;color:#e0e7ff;position:relative;overflow:hidden}\n",
    "#arrays-blog-card::before{content:'';position:absolute;top:0;left:0;right:0;bottom:0;background:radial-gradient(circle at 20% 20%, rgba(99,102,241,0.1) 0%, transparent 50%),radial-gradient(circle at 80% 80%, rgba(167,139,250,0.1) 0%, transparent 50%);pointer-events:none}\n",
    "#arrays-blog-card *{position:relative;z-index:1}\n",
    "#arrays-blog-card h1{font-size:2.8rem;margin:0 0 25px;color:#c7d2fe;letter-spacing:-0.8px;text-align:center;text-shadow:0 2px 4px rgba(0,0,0,0.3);background:linear-gradient(135deg,#c7d2fe 0%,#a5b4fc 100%);-webkit-background-clip:text;-webkit-text-fill-color:transparent;background-clip:text}\n",
    "#arrays-blog-card h2{font-size:2.2rem;margin:25px 0 15px;color:#a5b4fc;letter-spacing:-0.5px;border-bottom:2px solid rgba(99,102,241,0.3);padding-bottom:8px}\n",
    "#arrays-blog-card h3{font-size:1.7rem;margin:20px 0 10px;color:#818cf8;font-weight:600}\n",
    "#arrays-blog-card h4{font-size:1.4rem;margin:15px 0 8px;color:#8b5cf6}\n",
    "#arrays-blog-card hr{border:none;border-top:2px solid rgba(255,255,255,0.15);margin:25px 0;background:linear-gradient(90deg,transparent,rgba(99,102,241,0.5),transparent);height:2px}\n",
    "#arrays-blog-card p{color:#ddd6fe;font-size:1.05rem;line-height:1.7;margin:12px 0}\n",
    "#arrays-blog-card ul, #arrays-blog-card ol{color:#ddd6fe;margin:12px 0 12px 1.5rem;line-height:1.6}\n",
    "#arrays-blog-card li{margin:6px 0;padding-left:4px}\n",
    "#arrays-blog-card li::marker{color:#a5b4fc}\n",
    "#arrays-blog-card code{background:rgba(49,46,129,0.8);color:#e0e7ff;padding:3px 8px;border-radius:5px;font-size:0.95rem;border:1px solid rgba(99,102,241,0.2);font-family:'Fira Code','Monaco','Consolas',monospace}\n",
    "#arrays-blog-card pre{background:linear-gradient(135deg,#312e81 0%,#1e1b4b 100%);color:#e0e7ff;padding:16px;border-radius:10px;display:block;overflow:auto;margin:15px 0;border:1px solid rgba(99,102,241,0.2);box-shadow:inset 0 2px 4px rgba(0,0,0,0.2)}\n",
    "#arrays-blog-card pre code{background:none;border:none;padding:0;font-size:0.9rem}\n",
    "#arrays-blog-card table{width:100%;border-collapse:collapse;margin:20px 0;background:rgba(255,255,255,0.05);border-radius:8px;overflow:hidden;box-shadow:0 4px 12px rgba(0,0,0,0.2)}\n",
    "#arrays-blog-card th{background:linear-gradient(90deg,#6366f1,#4338ca);color:#ffffff;padding:12px;border:none;font-weight:700;text-align:left}\n",
    "#arrays-blog-card td{padding:10px 12px;border:none;color:#ddd6fe;border-bottom:1px solid rgba(255,255,255,0.05)}\n",
    "#arrays-blog-card tr:nth-child(even){background:rgba(255,255,255,0.03)}\n",
    "#arrays-blog-card tr:hover{background:rgba(99,102,241,0.1);transition:background 0.2s ease}\n",
    "#arrays-blog-card blockquote{background:linear-gradient(90deg,rgba(67,56,202,0.3),rgba(55,48,163,0.3));padding:15px 20px;border-left:4px solid #6366f1;border-radius:8px;margin:15px 0;backdrop-filter:blur(5px)}\n",
    "#arrays-blog-card blockquote p{margin:0;font-style:italic;color:#c7d2fe}\n",
    "#arrays-blog-card strong{color:#c7d2fe;font-weight:700}\n",
    "#arrays-blog-card em{color:#a5b4fc;font-style:italic}\n",
    "#arrays-blog-card a{color:#8b5cf6;text-decoration:none;border-bottom:1px solid transparent;transition:all 0.2s ease}\n",
    "#arrays-blog-card a:hover{color:#c7d2fe;border-bottom-color:#8b5cf6}\n",
    ".array-cta-btn{display:inline-block;padding:14px 28px;background:linear-gradient(135deg,#6366f1,#4338ca);color:#ffffff !important;border-radius:50px;font-weight:800;text-decoration:none;box-shadow:0 8px 20px rgba(99,102,241,0.3);transition:all .25s ease;border:2px solid transparent}\n",
    ".array-cta-btn:hover{transform:translateY(-3px) scale(1.05);box-shadow:0 12px 30px rgba(99,102,241,0.4);border-color:rgba(199,210,254,0.3)}\n",
    ".code-example{background:linear-gradient(135deg,rgba(55,48,163,0.4),rgba(49,46,129,0.4));padding:18px;border-radius:12px;margin:15px 0;border-left:4px solid #6366f1;backdrop-filter:blur(5px)}\n",
    ".highlight-box{background:linear-gradient(135deg,rgba(139,92,246,0.2),rgba(99,102,241,0.2));padding:15px;border-radius:10px;margin:12px 0;border:1px solid rgba(139,92,246,0.3)}\n",
    ".tip-box{background:linear-gradient(135deg,rgba(34,197,94,0.2),rgba(59,130,246,0.2));padding:12px 16px;border-radius:8px;margin:10px 0;border-left:4px solid #22c55e}\n",
    ".author-credit{text-align:center;margin:15px 0 25px;padding:12px 20px;background:linear-gradient(135deg,rgba(139,92,246,0.2),rgba(99,102,241,0.2));border-radius:25px;border:1px solid rgba(139,92,246,0.3);font-size:1.1rem;font-weight:600;color:#c7d2fe;text-shadow:0 1px 2px rgba(0,0,0,0.3);backdrop-filter:blur(5px)}\n",
    "@media (max-width:768px){#arrays-blog-card{padding:18px;margin:10px}#arrays-blog-card h1{font-size:2.2rem}#arrays-blog-card h2{font-size:1.8rem}#arrays-blog-card table{font-size:0.9rem}#arrays-blog-card pre{padding:12px;font-size:0.85rem}.author-credit{font-size:1rem;padding:10px 16px}}\n",
    "@media (max-width:480px){#arrays-blog-card{padding:14px}#arrays-blog-card h1{font-size:1.9rem}#arrays-blog-card h2{font-size:1.5rem}}\n",
    "</style>\n",
    "\n",
    "<div id=\"arrays-blog-card\" markdown=\"1\">\n",
    "\n",
    "<div class=\"author-credit\">\n",
    "✨ Created and Taught by The Coders ✨\n",
    "</div>"
   ]
  },
  {
   "cell_type": "markdown",
   "id": "59d93472",
   "metadata": {},
   "source": [
    "# All About Arrays\n",
    "\n",
    "## What is an Array?\n",
    "\n",
    "An **Array** is a data structure that stores multiple values in a single variable. It's like container that holds a collection of items in an ordered list.\n",
    "\n",
    "### Key Features:\n",
    "- Elements have a specific position or index\n",
    "- Each element can be accessed by its position (index) number \n",
    "- You can change, add, or remove elements\n",
    "- Usually stores elements of the same data type\n",
    "\n",
    "## Why are Arrays Important?\n",
    "\n",
    "Arrays allow you to:\n",
    "- Store multiple related values together\n",
    "- Process large amounts of data efficiently\n",
    "- Organize information in a structured way\n",
    "- Perform operations on collections of data\n",
    "\n",
    "### Real-world examples:\n",
    "- List of student grades\n",
    "- Shopping cart items"
   ]
  },
  {
   "cell_type": "markdown",
   "id": "892f5563",
   "metadata": {},
   "source": [
    "## Arrays in Python\n",
    "\n",
    "In Python, arrays are called **lists**.\n",
    "\n",
    "> **Tip:** Python lists are more flexible than traditional arrays in other languages!"
   ]
  },
  {
   "cell_type": "code",
   "execution_count": null,
   "id": "5b44235d",
   "metadata": {},
   "outputs": [],
   "source": [
    "# Example 1: Creating a simple array/list\n",
    "fruits = [\"apple\", \"banana\", \"orange\", \"grape\"]\n",
    "print(\"Fruits list:\", fruits)\n",
    "print(\"Type:\", type(fruits))"
   ]
  },
  {
   "cell_type": "markdown",
   "id": "c24cfdca",
   "metadata": {},
   "source": [
    "### Explanation:\n",
    "- `fruits` is a list containing 4 string elements\n",
    "- Square brackets `[]` create a list\n",
    "- Elements are separated by commas\n",
    "- `type()` shows this is a list object"
   ]
  },
  {
   "cell_type": "markdown",
   "id": "7d1ae632",
   "metadata": {},
   "source": [
    "## Array Indexing\n",
    "\n",
    "Each element in an array has a position number. This is called an **index**:\n",
    "\n",
    "| Index | Element | Description |\n",
    "|-------|---------|-------------|\n",
    "| 0     | First   | Arrays start at 0 |\n",
    "| 1     | Second  | Next Position |\n",
    "| 2     | Third   | Next Position |\n",
    "| -1    | Last    | Negative indices count backwards |"
   ]
  },
  {
   "cell_type": "code",
   "execution_count": null,
   "id": "66652987",
   "metadata": {},
   "outputs": [],
   "source": [
    "# Array indexing examples\n",
    "colors = [\"red\", \"blue\", \"green\", \"yellow\", \"purple\"]\n",
    "\n",
    "print(\"Full array:\", colors)\n",
    "print(\"\\nIndexing examples:\")\n",
    "print(\"First element (index 0):\", colors[0])\n",
    "print(\"Second element (index 1):\", colors[1])\n",
    "print(\"Last element (index -1):\", colors[-1])\n",
    "print(\"Second to last (index -2):\", colors[-2])"
   ]
  },
  {
   "cell_type": "markdown",
   "id": "4dd6883d",
   "metadata": {},
   "source": [
    "### Key Indexing Concepts:\n",
    "\n",
    "- **Zero-Indexed**: Arrays start counting from `0`\n",
    "- **Negative Indices**: `-1` is the last element\n",
    "- **Direct Access**: `colors[0]` gets first element\n",
    "- **Backwards Count**: `colors[-1]` gets last element"
   ]
  },
  {
   "cell_type": "markdown",
   "id": "d34bbda4",
   "metadata": {},
   "source": [
    "## Array Operations\n",
    "\n",
    "### Basic Operations:\n",
    "- **Add Elements**: `append()`, `insert()`\n",
    "- **Remove Elements**: `remove()`, `pop()`\n",
    "- **Search Elements**: `in` keyword, `index()`\n",
    "- **Get Length**: `len()` function"
   ]
  },
  {
   "cell_type": "code",
   "execution_count": null,
   "id": "98beb562",
   "metadata": {},
   "outputs": [],
   "source": [
    "# Starting with an empty array\n",
    "shopping_cart = []\n",
    "print(\"Empty cart:\", shopping_cart)\n",
    "\n",
    "# Adding elements (append)\n",
    "shopping_cart.append(\"milk\")\n",
    "shopping_cart.append(\"bread\")\n",
    "shopping_cart.append(\"eggs\")\n",
    "print(\"After adding items:\", shopping_cart)\n",
    "\n",
    "# Inserting at specific position\n",
    "shopping_cart.insert(1, \"butter\")\n",
    "print(\"After inserting butter at index 1:\", shopping_cart)\n",
    "\n",
    "# Removing elements\n",
    "shopping_cart.remove(\"bread\")\n",
    "print(\"After removing bread:\", shopping_cart)\n",
    "\n",
    "# Checking if element exists\n",
    "if \"milk\" in shopping_cart:\n",
    "    print(\"Milk is in the cart!\")"
   ]
  },
  {
   "cell_type": "markdown",
   "id": "95e6430f",
   "metadata": {},
   "source": [
    "### Operation Details:\n",
    "\n",
    "**Adding Elements:**\n",
    "- `append()` adds to the end\n",
    "- `insert(index, item)` adds at specific position\n",
    "\n",
    "**Removing Elements:**\n",
    "- `remove(item)` removes first occurrence\n",
    "- `in` keyword checks if item exists"
   ]
  },
  {
   "cell_type": "markdown",
   "id": "68d6e0f9",
   "metadata": {},
   "source": [
    "## Array Slicing\n",
    "\n",
    "You can get portions of an array using **slicing**:\n",
    "\n",
    "### Slicing Syntax:\n",
    "```python\n",
    "array[start:end]\n",
    "```\n",
    "\n",
    "### Examples:\n",
    "- `array[:3]` - First 3 elements\n",
    "- `array[2:6]` - Elements from index 2 to 5\n",
    "- `array[::2]` - Every 2nd element\n",
    "- `array[::-1]` - Reverse the array"
   ]
  },
  {
   "cell_type": "code",
   "execution_count": null,
   "id": "dbb5f085",
   "metadata": {},
   "outputs": [],
   "source": [
    "numbers = [10, 20, 30, 40, 50] # let's slice it now!\n",
    "numbers[1:4] #this will give us [20, 30, 40]. It stops before index 4, so it includes indices 1, 2, and 3, the end index is exclusive.\n",
    "\n",
    "# Slicing with a step\n",
    "numbers[0:5:2] # this will give us [10, 30, 50]. It starts at index 0, goes up to (but not including) index 5, and takes every second element.\n",
    "\n",
    "# Omitting start or end index\n",
    "numbers[:3] # this will give us [10, 20, 30]. It starts from the beginning and goes up to (but not including) index 3.\n",
    "numbers[2:] # this will give us [30, 40, 50]. It starts from index 2 and goes to the end of the list.\n",
    "\n",
    "# Negative indices\n",
    "numbers[-3:] # this will give us [30, 40, 50]. It starts from the third-to-last element and goes to the end.\n",
    "numbers[:-2] # this will give us [10, 20, 30]. It goes up to (but not including) the second-to-last element"
   ]
  },
  {
   "cell_type": "markdown",
   "id": "88723b1c",
   "metadata": {},
   "source": [
    "## Arrays inside Arrays\n",
    "\n",
    "Arrays can contain other arrays, where an element in a data structure is an array itself. These can be known as multi-dimensional arrays. \n",
    "\n",
    "It's almost like a spreadsheet:\n",
    "\n",
    "| Student | Math | Science | English |\n",
    "|---------|------|---------|---------|\n",
    "| Student 1 | 85 | 92 | 78 |\n",
    "| Student 2 | 90 | 88 | 95 |\n",
    "| Student 3 | 78 | 85 | 82 |"
   ]
  },
  {
   "cell_type": "markdown",
   "id": "aadc7f4a",
   "metadata": {},
   "source": [
    "## Summary\n",
    "\n",
    "### Key Concepts:\n",
    "- **Store Multiple Values** in an ordered collection\n",
    "- **Zero-Indexed** - First element is at position 0\n",
    "- **Mutable** - Modify, add, and remove elements\n",
    "- **Versatile** - Support many operations\n",
    "\n",
    "### Essential Operations:\n",
    "| Operation | Syntax | Description |\n",
    "|-----------|--------|-------------|\n",
    "| Creation | `array = [1, 2, 3]` | Create new array |\n",
    "| Accessing | `array[index]` | Get element by index |\n",
    "| Adding | `array.append(item)` | Add to end |\n",
    "| Removing| `array.remove(item)` | Remove item |\n",
    "| Length | `len(array)` | Get array size |\n",
    "| Slicing | `array[start:end]` | Get portion |\n",
    "\n",
    "### When to Use Arrays:\n",
    "- Storing lists of related data\n",
    "- Processing collections of information\n",
    "- Implementing algorithms with sequences\n",
    "- Managing ordered data that needs indexing\n",
    "\n",
    "---\n",
    "\n",
    "## Works Cited\n",
    "\n",
    "- [Lenovo. *Array (Glossary)*](https://www.lenovo.com/us/en/glossary/array//?orgRef=https%253A%252F%252Fwww.google.com%252F)  \n",
    "- [GeeksforGeeks. *Multidimensional Arrays in C*](https://www.geeksforgeeks.org/c/multidimensional-arrays-in-c/)  "
   ]
  },
  {
   "cell_type": "markdown",
   "id": "e2bfcbd7",
   "metadata": {},
   "source": [
    "https://github.com/precia-verma/Group-projects/blob/main/_notebooks/Foundation/javascript/Array/2025-09-24-The-Coders-Array-js-Hack.ipynb - Hacks"
   ]
  },
  {
   "cell_type": "markdown",
   "id": "96ea6b26",
   "metadata": {},
   "source": [
    "https://github.com/precia-verma/Group-projects/blob/main/_notebooks/Foundation/javascript/Array/2025-10-03-The-Coders-Array-homework.ipynb  - Homework"
   ]
  }
 ],
 "metadata": {
  "language_info": {
   "name": "python"
  }
 },
 "nbformat": 4,
 "nbformat_minor": 5
}
