{
  "cells": [
    {
      "cell_type": "raw",
      "id": "780e6f56",
      "metadata": {},
      "source": [
        "---\n",
        "layout: base\n",
        "title: Strings Homework \n",
        "description:  Strings Homework (Python)\n",
        "permalink: /strings-hw\n",
        "---"
      ]
    },
    {
      "cell_type": "markdown",
      "id": "eb40c4e5",
      "metadata": {},
      "source": [
        "# Strings + Tic‑Tac‑Toe — Homework\n",
        "\n",
        "This homework practices Python string basics using the Tic‑Tac‑Toe board representation from the strings lesson. Each part is worth up to **0.3 points**, with up to **0.03 points** exceptional credit for clear, pythonic solutions and docstrings.\n",
        "\n",
        "Instructions: Replace the `TODO` stubs below with working code. Run the tests for each part, then run the final grader cell to get your score breakdown."
      ]
    },
    {
      "cell_type": "markdown",
      "id": "8a49c55f",
      "metadata": {},
      "source": [
        "## Quick reminder — board representation\n",
        "\n",
        "- We use a list of 9 strings for the board, e.g. `[' ', 'X', 'O', ...]`.\n",
        "- Helpful functions from the lesson (available when you run that notebook) include: `print_board(board)` and `check_winner(board, symbol)`.\n",
        "\n",
        "If you want to import helpers from the lesson notebook, copy the helper cells or re-run that notebook kernel first."
      ]
    },
    {
      "cell_type": "markdown",
      "id": "934e9eeb",
      "metadata": {},
      "source": [
        "## Popcorn Hack (warmup)\n",
        "\n",
        "Small, quick tasks to get started with strings.\n",
        "\n",
        "1) Create `stringify_board(board)` that returns a single-line string representing the board using `''.join(...)`.\n",
        "2) Create `parse_board(s)` that converts the one-line string back to a board list.\n"
      ]
    },
    {
      "cell_type": "code",
      "execution_count": null,
      "id": "e31a7e5d",
      "metadata": {},
      "outputs": [],
      "source": [
        "# Popcorn Hack: stringify_board / parse_board\n",
        "def stringify_board(board):\n",
        "    \"\"\"Return a single-line string representation of the board.\n",
        "    Example: [' ', 'X', 'O', ...] -> ' XO ...'\n",
        "    \"\"\"\n",
        "    # TODO: implement using ''.join\n",
        "    raise NotImplementedError('Implement stringify_board')\n",
        "\n",
        "def parse_board(s):\n",
        "    \"\"\"Convert a one-line board string back to a list of 9 single-character strings.\"\"\"\n",
        "    # TODO: implement using list(...) or similar\n",
        "    raise NotImplementedError('Implement parse_board')\n",
        "\n",
        "# quick warmup checks (you can run these after implementing)\n",
        "print('Warmup: run stringify_board/parse_board checks after implementing')"
      ]
    },
    {
      "cell_type": "markdown",
      "id": "9122658c",
      "metadata": {},
      "source": [
        "## Homework: Part A — String roundtrip (0.3 pts)\n",
        "\n",
        "Implement `stringify_board` and `parse_board` (if you didn't in the warmup). The grader checks that stringify -> parse returns the original board and that you used string operations (heuristic: presence of `join` or `list(` in source). Exceptional credit if your functions include clear docstrings and use `join`/`split` appropriately."
      ]
    },
    {
      "cell_type": "code",
      "execution_count": null,
      "id": "94900d2e",
      "metadata": {},
      "outputs": [],
      "source": [
        "# Tests & grader for Part A\n",
        "def _tests_A():\n",
        "    boards = [\n",
        "        [' ', 'X', 'O', ' ', 'X', ' ', 'O', ' ', ' '],\n",
        "        ['X']*9,\n",
        "        [' ']*9\n",
        "    ]\n",
        "    for b in boards:\n",
        "        s = stringify_board(b)\n",
        "        b2 = parse_board(s)\n",
        "        assert isinstance(s, str), 'stringify_board must return a str'\n",
        "        assert isinstance(b2, list) and len(b2) == 9, 'parse_board must return list of length 9'\n",
        "        assert b2 == b, f'roundtrip mismatch: {b} -> {b2}'\n",
        "    print('Part A tests passed')\n",
        "\n",
        "def grade_part_A():\n",
        "    try:\n",
        "        _tests_A()\n",
        "        base = 0.3\n",
        "    except AssertionError as e:\n",
        "        print('Part A failed:', e)\n",
        "        return 0.0, 0.0\n",
        "    # exceptional credit heuristics\n",
        "    import inspect\n",
        "    extra = 0.0\n",
        "    try:\n",
        "        src = inspect.getsource(stringify_board) + inspect.getsource(parse_board)\n",
        "        if ('join' in src or 'split' in src or 'list(' in src) and '\"\"\"' in src:\n",
        "            extra = 0.03\n",
        "    except Exception:\n",
        "        pass\n",
        "    return base, extra\n",
        "\n",
        "print('Run grade_part_A() after implementing the functions')"
      ]
    },
    {
      "cell_type": "markdown",
      "id": "af8346d9",
      "metadata": {},
      "source": [
        "## Homework: Part B — Find a two‑in‑a‑row (0.3 pts)\n",
        "\n",
        "Implement `find_best_move(board, player)` that returns the index (0-8) of an empty square that would let `player` complete three-in-a-row, or `-1` if none. Use readable string/list handling. Exceptional credit for concise solutions using comprehensions or `any()`/`all()` and a docstring."
      ]
    },
    {
      "cell_type": "code",
      "execution_count": null,
      "id": "aef889a5",
      "metadata": {},
      "outputs": [],
      "source": [
        "# Part B: find_best_move stub\n",
        "def find_best_move(board, player):\n",
        "    \"\"\"Return index 0-8 of empty square completing player's three-in-a-row, or -1 if none.\"\"\"\n",
        "    # TODO: implement (readable, beginner-friendly)\n",
        "    raise NotImplementedError('Implement find_best_move')\n",
        "\n",
        "# Tests & grader for Part B\n",
        "def _tests_B():\n",
        "    cases = [\n",
        "        (['X','X',' ',' ',' ',' ',' ',' ',' '], 'X', 2),\n",
        "        (['O',' ',' ','O',' ',' ','O',' ',' '], 'O', 6),\n",
        "        (['X','O','X','O','X','O','O','X','O'], 'X', -1),\n",
        "    ]\n",
        "    for b, p, expected in cases:\n",
        "        res = find_best_move(b, p)\n",
        "        assert isinstance(res, int), 'find_best_move must return an int'\n",
        "        assert res == expected, f'expected {expected}, got {res} for {b} {p}'\n",
        "    print('Part B tests passed')\n",
        "\n",
        "def grade_part_B():\n",
        "    try:\n",
        "        _tests_B()\n",
        "        base = 0.3\n",
        "    except AssertionError as e:\n",
        "        print('Part B failed:', e)\n",
        "        return 0.0, 0.0\n",
        "    import inspect\n",
        "    extra = 0.0\n",
        "    try:\n",
        "        src = inspect.getsource(find_best_move)\n",
        "        if ('all(' in src or 'any(' in src or '[' in src) and '\"\"\"' in src:\n",
        "            extra = 0.03\n",
        "    except Exception:\n",
        "        pass\n",
        "    return base, extra\n",
        "\n",
        "print('Run grade_part_B() after implementing find_best_move')"
      ]
    },
    {
      "cell_type": "markdown",
      "id": "2b8c6d93",
      "metadata": {},
      "source": [
        "## Homework: Part C — Pretty board string (0.3 pts)\n",
        "\n",
        "Implement `format_board_pretty(board)` that returns a multi-line string showing the board in a human-friendly layout (like the `print_board` output, but *return* the string instead of printing). This practices string concatenation, f-strings, and multi-line strings. Exceptional credit for clean docstring and use of `join` or f-strings."
      ]
    },
    {
      "cell_type": "code",
      "execution_count": null,
      "id": "af1f8144",
      "metadata": {},
      "outputs": [],
      "source": [
        "# Part C: format_board_pretty stub\n",
        "def format_board_pretty(board):\n",
        "    \"\"\"Return a multi-line string representing the board layout.\n",
        "    Example output (with X/O and spaces):\n",
        "     X | O |  \n",
        "    ---+---+---\n",
        "     O | X | X\n",
        "    ---+---+---\n",
        "       |   |  \n",
        "    \"\"\"\n",
        "    # TODO: build and return the formatted string\n",
        "    raise NotImplementedError('Implement format_board_pretty')\n",
        "\n",
        "# Tests & grader for Part C\n",
        "def _tests_C():\n",
        "    b = ['X','O',' ', ' ', 'X', ' ', 'O',' ',' ']\n",
        "    s = format_board_pretty(b)\n",
        "    assert isinstance(s, str), 'format_board_pretty must return a string'\n",
        "    # basic content checks\n",
        "    assert '|' in s and '---+---+---' in s, 'format should include separators'\n",
        "    # check that each board symbol appears in the string\n",
        "    for ch in ['X','O']:\n",
        "        assert ch in s, f'{ch} should appear in formatted board'\n",
        "    print('Part C tests passed')\n",
        "\n",
        "def grade_part_C():\n",
        "    try:\n",
        "        _tests_C()\n",
        "        base = 0.3\n",
        "    except AssertionError as e:\n",
        "        print('Part C failed:', e)\n",
        "        return 0.0, 0.0\n",
        "    import inspect\n",
        "    extra = 0.0\n",
        "    try:\n",
        "        src = inspect.getsource(format_board_pretty)\n",
        "        if ('join' in src or 'f\"' in src or '\"\"\"' in src) and '\"\"\"' in src:\n",
        "            extra = 0.03\n",
        "    except Exception:\n",
        "        pass\n",
        "    return base, extra\n",
        "\n",
        "print('Run grade_part_C() after implementing format_board_pretty')"
      ]
    },
    {
      "cell_type": "markdown",
      "id": "3e121e83",
      "metadata": {},
      "source": [
        "# Submission \n",
        "\n",
        "- Keep your implementations short and well-documented — add a docstring to earn exceptional credit.\n",
        "- Use `''.join(board)` and `list(s)`/`split` for the string roundtrip (Part A).\n",
        "- For Part B, reuse the `win_patterns` idea from the lesson and count marks in each pattern.\n",
        "- For Part C, build the multi-line string with f-strings or `join` for clarity.\n",
        "- Submit the submission here: https://forms.gle/AAeLJGBXpMaU8Hf18"
      ]
    }
  ],
  "metadata": {
    "kernelspec": {
      "display_name": "Python 3",
      "language": "python",
      "name": "python3"
    },
    "language_info": {
      "name": "python",
      "version": "3.10"
    }
  },
  "nbformat": 4,
  "nbformat_minor": 5
}
