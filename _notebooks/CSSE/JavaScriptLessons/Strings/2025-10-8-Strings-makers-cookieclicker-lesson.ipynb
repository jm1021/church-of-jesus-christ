{
 "cells": [
  {
   "cell_type": "raw",
   "id": "099c4a8b",
   "metadata": {
    "vscode": {
     "languageId": "raw"
    }
   },
   "source": [
    "---\n",
    "layout: post\n",
    "title: Makers - Strings JS Lesson\n",
    "description: Strings lesson (Cookie Clicker)\n",
    "permalink: /Javascript/strings-lesson\n",
    "categories: [Javascript, Strings]\n",
    "author: Makers\n",
    "---"
   ]
  },
  {
   "cell_type": "markdown",
   "id": "ce16db93",
   "metadata": {
    "vscode": {
     "languageId": "raw"
    }
   },
   "source": [
    "<hr>\n",
    "\n",
    "# JavaScript Strings\n",
    "\n",
    "## What are strings?\n",
    "Strings are a data type used to represent text and store them within quotes. They are sequences of characters enclosed in single quotes `' '`, double quotes `\" \"`, or backticks (`). Strings can contain letters, numbers, symbols, and spaces.\n",
    "\n",
    "<hr>"
   ]
  },
  {
   "cell_type": "markdown",
   "id": "0c59f06a",
   "metadata": {},
   "source": [
    "# Examples:"
   ]
  },
  {
   "cell_type": "code",
   "execution_count": null,
   "id": "7ce3119d",
   "metadata": {
    "vscode": {
     "languageId": "html"
    }
   },
   "outputs": [
    {
     "data": {
      "text/html": [
       "<div id=\"demo\"></div>\n",
       "\n",
       "<script>\n",
       "    (() => {\n",
       "        let carName = \"Toyota\";\n",
       "        let carModel = 'Corolla';\n",
       "        const Grandma = `Grandma`;\n",
       "        console.log(carName), console.log(carModel), console.log(Grandma);\n",
       "        document.getElementById(\"demo\").innerText = carName + \" \" + carModel + \" and \" + Grandma;\n",
       "    })();\n",
       "</script>\n"
      ],
      "text/plain": [
       "<IPython.core.display.HTML object>"
      ]
     },
     "metadata": {},
     "output_type": "display_data"
    }
   ],
   "source": [
    "%%html\n",
    "<div id=\"demo\"></div>\n",
    "\n",
    "<script>\n",
    "    (() => {\n",
    "\n",
    "        let carName = \"Toyota\";\n",
    "        let carModel = 'Corolla';\n",
    "        const Grandma = `Grandma`;\n",
    "        console.log(carName), console.log(carModel), console.log(Grandma);\n",
    "        document.getElementById(\"demo\").innerText = carName + \" \" + carModel + \" and \" + Grandma;\n",
    "        \n",
    "    })();\n",
    "</script>"
   ]
  },
  {
   "cell_type": "markdown",
   "id": "429bb7be",
   "metadata": {},
   "source": [
    "Strings contain information about variables that are defined using `let` or `const`. To print these strings, using `console.log()` will print the strings in the console."
   ]
  },
  {
   "cell_type": "markdown",
   "id": "2749af54",
   "metadata": {},
   "source": [
    "<hr>\n",
    "\n",
    "# Strings and Quotes\n",
    "- Strings can work with both single and double quotes, there is no difference.\n",
    "- Strings are meant to be stored in variables. \"Let\" and \"const\" are common variables that store strings.\n",
    "- Strings can also include quotes inside quotes, but the quotes inside need to be different than the quotes outside."
   ]
  },
  {
   "cell_type": "code",
   "execution_count": null,
   "id": "e17a552f",
   "metadata": {
    "vscode": {
     "languageId": "javascript"
    }
   },
   "outputs": [],
   "source": [
    "let button1 = \"Grandma\";\n",
    "let button2 = '67 Cookie';\n",
    "let button3 = '\"Mega Cookie\"';"
   ]
  },
  {
   "cell_type": "markdown",
   "id": "82a07724",
   "metadata": {},
   "source": [
    "<hr>\n",
    "\n",
    "# Counting Strings\n",
    "- Strings have a unique feature of being able to count the number or characters or how long the string is\n",
    "- Use `.length` to find the amount of characters a string has\n",
    "- Strings count the amount of spaces inside too\n",
    "- Strings can have 0 characters in them"
   ]
  },
  {
   "cell_type": "code",
   "execution_count": null,
   "id": "6918b6ca",
   "metadata": {
    "vscode": {
     "languageId": "javascript"
    }
   },
   "outputs": [
    {
     "data": {
      "text/html": [
       "<div id=\"demo\"></div>\n",
       "\n",
       "<script>\n",
       "\n",
       "(() => {\n",
       "    let multiplier1 = \"x100\";\n",
       "    console.log(multiplier1.length); // Output: 4\n",
       "    document.getElementById(\"demo\").innerText = \"Length of '\" + multiplier1 + \"' is: \" + multiplier1.length;\n",
       "\n",
       "    let multiplier2 = \" x100 \";\n",
       "    console.log(multiplier2.length); // Output: 6 (includes spaces)\n",
       "    document.getElementById(\"demo\").innerText += \"\\nLength of '\" + multiplier2 + \"' is: \" + multiplier2.length;\n",
       "\n",
       "    let emptyString = \"\";\n",
       "    console.log(emptyString.length); // Output: 0\n",
       "    document.getElementById(\"demo\").innerText += \"\\nLength of empty string is: \" + emptyString.length;\n",
       "})();\n",
       "\n",
       "</script>\n"
      ],
      "text/plain": [
       "<IPython.core.display.HTML object>"
      ]
     },
     "metadata": {},
     "output_type": "display_data"
    }
   ],
   "source": [
    "%%javascript\n",
    "\n",
    "let multiplier1 = \"x100\";\n",
    "console.log(multiplier1.length); // Output: 4\n",
    "\n",
    "let multiplier2 = \" x100 \";\n",
    "console.log(multiplier2.length); // Output: 6 (includes spaces)\n",
    "\n",
    "let emptyString = \"\";\n",
    "console.log(emptyString.length); // Output: 0"
   ]
  },
  {
   "cell_type": "markdown",
   "id": "8213d113",
   "metadata": {},
   "source": [
    "<hr>\n",
    "\n",
    "# Simple Text Modifications"
   ]
  },
  {
   "cell_type": "markdown",
   "id": "4f848b24",
   "metadata": {},
   "source": [
    "Strings can undergo some simple text modifications, including:\n",
    "- Upper case\n",
    "- Lower case\n",
    "\n",
    "Using `.toUpperCase` or `.toLowerCase` alongside the `console.log` can print the following strings in the console with modified text. "
   ]
  },
  {
   "cell_type": "markdown",
   "id": "3f9a50e9",
   "metadata": {},
   "source": [
    "## Examples of Modifications"
   ]
  },
  {
   "cell_type": "code",
   "execution_count": 5,
   "id": "f9e0f876",
   "metadata": {
    "vscode": {
     "languageId": "javascript"
    }
   },
   "outputs": [
    {
     "data": {
      "application/javascript": "\nlet name = \"Cookie\";\nconsole.log(name.toUpperCase()); // \"COOKIE\"\nconsole.log(name.toLowerCase()); // \"cookie\"\n",
      "text/plain": [
       "<IPython.core.display.Javascript object>"
      ]
     },
     "metadata": {},
     "output_type": "display_data"
    }
   ],
   "source": [
    "%%javascript\n",
    "\n",
    "let name = \"Cookie\";\n",
    "console.log(name.toUpperCase()); // \"COOKIE\"\n",
    "console.log(name.toLowerCase()); // \"cookie\""
   ]
  },
  {
   "cell_type": "markdown",
   "id": "b9b800c0",
   "metadata": {},
   "source": [
    "<hr>\n",
    "\n",
    "# Concatenation"
   ]
  },
  {
   "cell_type": "markdown",
   "id": "c989cfc7",
   "metadata": {},
   "source": [
    "Strings in JavaScript can ba **concatenated**, which when printed in the console log, are added together.\n",
    "\n",
    "Concatenation makes it easy to form sentences from the defined variables with strings. A mix of strings and variables defined wtih strings can make simple sentences in the console. "
   ]
  },
  {
   "cell_type": "code",
   "execution_count": 6,
   "id": "56deb5a9",
   "metadata": {
    "vscode": {
     "languageId": "javascript"
    }
   },
   "outputs": [
    {
     "data": {
      "application/javascript": "// Concatenation\nlet cookieName = \"Chocolate Chip Cookie\";\nlet firstName = \"LeBron\";\nlet lastName = \"James\";\nconsole.log(firstName + \" \" + lastName + \"' favorite cookie is his signature \" + cookieName + \".\"); // \"Lebron James' favorite cookie is his signature Chocolate Chip Cookie.\"\"\n",
      "text/plain": [
       "<IPython.core.display.Javascript object>"
      ]
     },
     "metadata": {},
     "output_type": "display_data"
    }
   ],
   "source": [
    "%%javascript\n",
    "// Concatenation\n",
    "let cookieName = \"Chocolate Chip Cookie\";\n",
    "let firstName = \"LeBron\";\n",
    "let lastName = \"James\";\n",
    "console.log(firstName + \" \" + lastName + \"' favorite cookie is his signature \" + cookieName + \".\"); // \"Lebron James' favorite cookie is his signature Chocolate Chip Cookie.\"\""
   ]
  },
  {
   "cell_type": "markdown",
   "id": "a3d69e92",
   "metadata": {},
   "source": [
    "Concatenation makes combining strings into sentences possible. However, concatenation can be made simpler, as it can sometimes seem very cluttered when there are multple strings needed to be combined. It is easy to lose track of quotes and addition signs.\n",
    "\n",
    "How can we make concatenation more simpler? The answer is in template literals."
   ]
  },
  {
   "cell_type": "markdown",
   "id": "4fe50b99",
   "metadata": {},
   "source": [
    "<hr>\n",
    "\n",
    "# Strings and Template Literals"
   ]
  },
  {
   "cell_type": "markdown",
   "id": "0c876db9",
   "metadata": {},
   "source": [
    "## What are template literals?\n",
    "- Template literals are enclosed by backticks (``)\n",
    "- Template literals (introduced in ES6) have many new features added to strings. 2 of them are:\n",
    "    - 1. Can create multi-line strings\n",
    "        - Strings can be written across multiple lines\n",
    "    - 2. String interpolation\n",
    "        - Concatenation made simpler, less addition signs in place of a syntax"
   ]
  },
  {
   "cell_type": "markdown",
   "id": "5cccac52",
   "metadata": {},
   "source": [
    "## Example of Multi-line Strings"
   ]
  },
  {
   "cell_type": "code",
   "execution_count": null,
   "id": "eef28891",
   "metadata": {
    "vscode": {
     "languageId": "javascript"
    }
   },
   "outputs": [
    {
     "data": {
      "application/javascript": "const multilineString = `\nThis is an example of a multi-line string.\nYou can write as much as you want here.\nThis is useful for writing paragraphs or long text.\n`;\nconsole.log(multilineString);\n",
      "text/plain": [
       "<IPython.core.display.Javascript object>"
      ]
     },
     "metadata": {},
     "output_type": "display_data"
    }
   ],
   "source": [
    "%%javascript\n",
    "const multilineString = `\n",
    "This is an example of a multi-line string.\n",
    "You can write as much as you want here.\n",
    "This is useful for writing paragraphs or long text.\n",
    "`;\n",
    "console.log(multilineString);"
   ]
  },
  {
   "cell_type": "markdown",
   "id": "9ce47c0b",
   "metadata": {},
   "source": [
    "## Example of String Interpolation"
   ]
  },
  {
   "cell_type": "code",
   "execution_count": null,
   "id": "503299dc",
   "metadata": {
    "vscode": {
     "languageId": "javascript"
    }
   },
   "outputs": [
    {
     "data": {
      "application/javascript": "\nshopButton.className = `bg-slate-500 hover:bg-slate-600 text-white px-4 py-2 mb-2`;\nshopButton.innerHTML = `${forSaleItemInfo.emoji} ${forSaleItemInfo.name} (${forSaleItemInfo.price} 🍪)`;\n",
      "text/plain": [
       "<IPython.core.display.Javascript object>"
      ]
     },
     "metadata": {},
     "output_type": "display_data"
    }
   ],
   "source": [
    "%%javascript\n",
    "\n",
    "const name = \"Lance\";\n",
    "console.log(`Hello, ${name}!`);"
   ]
  },
  {
   "cell_type": "markdown",
   "id": "b33dac1d",
   "metadata": {},
   "source": [
    "This is a great example of **string interpolation** in the Cookie Clicker Game. \n",
    "- It uses the syntax: `${expression}` for the variables emoji, name, and price to be plugged. Template literals allow for variables to be placed inside the string.\n",
    "- The className button doesn't need to have the backtick, but provides clarity and consistency."
   ]
  },
  {
   "cell_type": "markdown",
   "id": "18967c61",
   "metadata": {},
   "source": [
    "# Strings in Cookie Clicker Game"
   ]
  },
  {
   "cell_type": "code",
   "execution_count": null,
   "id": "bf4753aa",
   "metadata": {
    "vscode": {
     "languageId": "javascript"
    }
   },
   "outputs": [],
   "source": [
    "const Alien = {\n",
    "  name: \"Alien\",\n",
    "  emoji: \"👽\",\n",
    "  price: 50000,\n",
    "  priceIncrementer: 1.3,\n",
    "  cookiesPerSecond: 500,\n",
    "};\n",
    "\n",
    "const SixSevenCookie = {\n",
    "  name: \"67 Cookie\",\n",
    "  emoji: \"🤩\",\n",
    "  price: 67000,\n",
    "  priceIncrementer: 1.5,\n",
    "  cookiesPerSecond: 670,\n",
    "};\n",
    "\n",
    "const DookieCookie = {\n",
    "  name: \"Dookie Cookie\",\n",
    "  emoji: \"💩\",\n",
    "  price: 100000,\n",
    "  priceIncrementer: 1.7,\n",
    "  cookiesPerSecond: 1000,\n",
    "};"
   ]
  },
  {
   "cell_type": "markdown",
   "id": "299dc2dc",
   "metadata": {
    "vscode": {
     "languageId": "raw"
    }
   },
   "source": [
    "In this example, there are **six** examples of strings.\n",
    "- \"Grandma\", \"Chef\", and \"Kitchen\" are **three** examples are under the variable: \"const\".\n",
    "- Another **three** examples, \"👵\", \"👨‍🍳\", and \"🔪\", are examples of strings as emojis. "
   ]
  },
  {
   "cell_type": "markdown",
   "id": "810a0120",
   "metadata": {},
   "source": [
    "This is where you will find homework: [Github Homework Link](https://github.com/Open-Coding-Society/pages/tree/main/_notebooks/CSSE/JavaScriptLessons/Strings)"
   ]
  }
 ],
 "metadata": {
  "kernelspec": {
   "display_name": "venv",
   "language": "python",
   "name": "python3"
  },
  "language_info": {
   "codemirror_mode": {
    "name": "ipython",
    "version": 3
   },
   "file_extension": ".py",
   "mimetype": "text/x-python",
   "name": "python",
   "nbconvert_exporter": "python",
   "pygments_lexer": "ipython3",
   "version": "3.13.7"
  }
 },
 "nbformat": 4,
 "nbformat_minor": 5
}
