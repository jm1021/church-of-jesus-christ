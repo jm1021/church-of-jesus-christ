{
 "cells": [
  {
   "cell_type": "raw",
   "id": "0b9eaf8c",
   "metadata": {},
   "source": [
    "---\n",
    "layout: base\n",
    "title: Strings Lesson\n",
    "description:  Strings Lesson\n",
    "permalink: /strings-lesson\n",
    "---"
   ]
  },
  {
   "cell_type": "markdown",
   "id": "7b01474a",
   "metadata": {},
   "source": [
    "# Python Strings\n",
    "\n",
    "## Intro - Tic-Tac-Toe Example\n",
    "\n",
    "- This notebook teaches Python `str` basics. \n",
    "   - Uses small examples drawn from the Tic-tac-toe notebooks in this repository. \n",
    "   - We use the board representation and display function from the existing Tic-tac-toe lesson to demonstrate how strings are used in a simple game context.\n",
    "\n",
    "Sources referenced: `_notebooks/Foundation/F-projects/2025-08-13-tic-tac-toe-code-lesson.ipynb` and `2025-08-18-tictactoe-code.ipynb` (display and win-check logic)."
   ]
  },
  {
   "cell_type": "markdown",
   "id": "30df62d1",
   "metadata": {},
   "source": [
    "## Key ideas about Python `str`\n",
    "\n",
    "- Strings are immutable: once created, their contents can't be changed (operations return new strings).\n",
    "- Use `==` to compare string *contents* (not `is`).\n",
    "- Common operations: concatenation (`+`), repetition (`*`), slicing (`s[1:3]`), `len(s)`, `s.upper()`, `s.lower()`, `s.split()`, `\n",
    ".join(list)`.\n",
    "- A single character is also a string of length 1 in Python (there's no distinct `char` type)."
   ]
  },
  {
   "cell_type": "markdown",
   "id": "1bcfeaf8",
   "metadata": {},
   "source": [
    "### String basics (literals, escaping, indexing, slicing)\n",
    "\n",
    "- Quotes: use single `'...'` or double `\"...\"` quotes for strings. Triple quotes `'''...'''` or `\"\"\"...\"\"\"` are for multi-line strings.\n",
    "- Escape sequences: `\\n` (newline), `\\t` (tab), `\\\"` and `\\'` for embedded quotes; use raw strings `r'...'` to avoid processing escapes (useful for file paths/regex).\n",
    "- Indexing: `s[0]` is the first character, `s[-1]` is the last.\n",
    "- Slicing: `s[start:end]` (end is exclusive), e.g. `s[:3]`, `s[3:]`, `s[::-1]` reverses a string.\n",
    "- Strings are immutable: you cannot assign to `s[0]` — operations return new strings instead.\n",
    "- Formatting: f-strings `f\"{name} is {age}\"` and `format()` are common for building strings.\n",
    "\n",
    "Try the runnable examples in the next cell to see these concepts in action."
   ]
  },
  {
   "cell_type": "code",
   "execution_count": null,
   "id": "fe96fbf0",
   "metadata": {},
   "outputs": [],
   "source": [
    "# String basics examples\n",
    "a = 'hello'\n",
    "b = \"world\"\n",
    "print('a, b ->', a, b)\n",
    "\n",
    "# multi-line and raw strings\n",
    "multi = '''line1\n",
    "line2'''\n",
    "print('multi (repr) ->', repr(multi))\n",
    "raw = r'C:\\temp\\newfile.txt'\n",
    "print('raw ->', raw)\n",
    "\n",
    "# indexing and slicing\n",
    "print('a[0] ->', a[0])\n",
    "print('a[-1] ->', a[-1])\n",
    "print('a[1:4] ->', a[1:4])\n",
    "\n",
    "# concatenation, repetition, and common methods\n",
    "print('concat ->', a + ' ' + b)\n",
    "print('repeat ->', a * 2)\n",
    "print('upper ->', a.upper())\n",
    "print('replace ->', a.replace('l','L'))\n",
    "print('find ->', a.find('l'))\n",
    "print('split ->', 'a,b,c'.split(','))\n",
    "print('join ->', '-'.join(['a','b','c']))\n",
    "\n",
    "# immutability demonstration\n",
    "try:\n",
    "    a[0] = 'H'\n",
    "except TypeError as e:\n",
    "    print('immutability error (expected):', e)\n",
    "\n",
    "# formatting\n",
    "name = 'Alice'; score = 42\n",
    "print(f'{name} scored {score}')\n",
    "print('format -> {}'.format(name))\n",
    "\n",
    "# small exercise: build a one-line board string\n",
    "board = [' ', 'X', 'O', ' ', 'X', ' ', 'O', ' ', ' ']\n",
    "one_line = ''.join(board)\n",
    "print('one_line ->', repr(one_line))\n",
    "print('split back ->', list(one_line))"
   ]
  },
  {
   "cell_type": "code",
   "execution_count": 2,
   "id": "532a55df",
   "metadata": {},
   "outputs": [
    {
     "name": "stdout",
     "output_type": "stream",
     "text": [
      "Our empty board list:\n",
      "[' ', ' ', ' ', ' ', ' ', ' ', ' ', ' ', ' ']\n",
      "\n",
      "Position 0 (top-left): ' '\n",
      "Position 4 (center): ' '\n",
      "Position 8 (bottom-right): ' '\n",
      "\n",
      "After placing some symbols:\n",
      "['X', ' ', ' ', ' ', 'O', ' ', ' ', ' ', 'X']\n"
     ]
    }
   ],
   "source": [
    "# 🔧 Mini-Challenge 1: Create and Explore the Board\n",
    "\n",
    "# Create an empty board (9 empty spaces)\n",
    "board = [\" \"] * 9\n",
    "\n",
    "print(\"Our empty board list:\") # Print a string\n",
    "print(board)\n",
    "print()\n",
    "\n",
    "# Let's see what's at different positions\n",
    "print(\"Position 0 (top-left):\", repr(board[0]))\n",
    "print(\"Position 4 (center):\", repr(board[4]))  \n",
    "print(\"Position 8 (bottom-right):\", repr(board[8]))\n",
    "print()\n",
    "\n",
    "# Now let's place some symbols and see what happens\n",
    "board[0] = \"X\"  # Top-left\n",
    "board[4] = \"O\"  # Center  \n",
    "board[8] = \"X\"  # Bottom-right\n",
    "\n",
    "print(\"After placing some symbols:\")\n",
    "print(board)"
   ]
  },
  {
   "cell_type": "markdown",
   "id": "93edc3e0",
   "metadata": {},
   "source": [
    "## Board as a `list` of strings\n",
    "\n",
    "We represent the Tic-tac-toe board as `board = [\n",
    "] * 9` where each square is a string (empty string or a single-character mark like `'X'` or `'O'`). The repository's Tic-tac-toe lesson uses a `print_board` function; we include it here exactly as used in the lesson so you can copy/run it."
   ]
  },
  {
   "cell_type": "code",
   "execution_count": null,
   "id": "619313f3",
   "metadata": {},
   "outputs": [],
   "source": [
    "# print_board function taken from the Tic-tac-toe lesson notebook\n",
    "def print_board(board):\n",
    "    \"\"\"This function takes a board list and displays it as tic-tac-toe\"\"\"\n",
    "    print()  # Empty line for spacing\n",
    "    print(f\" {board[0]} | {board[1]} | {board[2]}\")\n",
    "    print(\"---+---+---\")\n",
    "    print(f\" {board[3]} | {board[4]} | {board[5]}\")\n",
    "    print(\"---+---+---\")\n",
    "    print(f\" {board[6]} | {board[7]} | {board[8]}\")\n",
    "    print()  # Empty line for spacing\n",
    "\n",
    "# create a board and demonstrate placing moves\n",
    "board = [' '] * 9\n",
    "board[4] = 'X'   # place X in the center\n",
    "board[0] = 'O'   # place O at top-left\n",
    "print_board(board)"
   ]
  },
  {
   "cell_type": "markdown",
   "id": "31ed0791",
   "metadata": {},
   "source": [
    "## Useful string operations with game examples\n",
    "\n",
    "We'll demonstrate some common `str` operations and why they matter when handling board contents."
   ]
  },
  {
   "cell_type": "code",
   "execution_count": null,
   "id": "3dc28b90",
   "metadata": {},
   "outputs": [],
   "source": [
    "s = 'x'\n",
    "print('original:', s)\n",
    "print('upper ->', s.upper())\n",
    "print('concat ->', s + ' and O')\n",
    "print('repeat ->', s * 3)\n",
    "# converting marks to a single string representation of the board\n",
    "row = '|'.join(board[0:3])\n",
    "print('row string ->', row)\n",
    "# splitting back into list values (example)\n",
    "parts = row.split('|')\n",
    "print('parts ->', parts)"
   ]
  },
  {
   "cell_type": "markdown",
   "id": "d3a3f9ce",
   "metadata": {},
   "source": [
    "## Checking wins (win patterns)\n",
    "\n",
    "The Tic-tac-toe lesson uses a set of winning index patterns. The check below is adapted from the repository's notebook and returns `True` when a player has three matching marks (non-empty) in any winning pattern."
   ]
  },
  {
   "cell_type": "code",
   "execution_count": null,
   "id": "e36d5b99",
   "metadata": {},
   "outputs": [],
   "source": [
    "win_patterns = [\n",
    "    [0,1,2], [3,4,5], [6,7,8],  # rows\n",
    "    [0,3,6], [1,4,7], [2,5,8],  # columns\n",
    "    [0,4,8], [2,4,6]            # diagonals\n",
    "]\n",
    "\n",
    "def check_winner(board, symbol):\n",
    "    \"\"\"Return True if `symbol` (e.g. 'X') has a winning pattern on `board`.\n",
    "    This uses the same idea shown in the Tic-tac-toe lesson notebooks.\n",
    "    \"\"\"\n",
    "    for combo in win_patterns:\n",
    "        if all(board[i] == symbol for i in combo):\n",
    "            return True\n",
    "    return False\n",
    "\n",
    "# quick check\n",
    "b = ['X','X','X',' ',' ',' ',' ',' ',' ']\n",
    "print('check_winner ->', check_winner(b, 'X'))  # True"
   ]
  },
  {
   "cell_type": "markdown",
   "id": "1b99235b",
   "metadata": {},
   "source": [
    "## Finding a two-in-a-row (simple example)\n",
    "\n",
    "To connect string handling to game heuristics, here is a small helper that finds an empty cell that would complete a player's three-in-a-row (similar to patterns used in some Tic-tac-toe AI). This is a direct, minimal translation of the idea used in the JS implementation in the repository."
   ]
  },
  {
   "cell_type": "code",
   "execution_count": 4,
   "id": "ea6ed347",
   "metadata": {},
   "outputs": [
    {
     "ename": "NameError",
     "evalue": "name 'win_patterns' is not defined",
     "output_type": "error",
     "traceback": [
      "\u001b[31m---------------------------------------------------------------------------\u001b[39m",
      "\u001b[31mNameError\u001b[39m                                 Traceback (most recent call last)",
      "\u001b[36mCell\u001b[39m\u001b[36m \u001b[39m\u001b[32mIn[4]\u001b[39m\u001b[32m, line 15\u001b[39m\n\u001b[32m     13\u001b[39m \u001b[38;5;66;03m# test the helper\u001b[39;00m\n\u001b[32m     14\u001b[39m test_board = [\u001b[33m'\u001b[39m\u001b[33mX\u001b[39m\u001b[33m'\u001b[39m,\u001b[33m'\u001b[39m\u001b[33mX\u001b[39m\u001b[33m'\u001b[39m,\u001b[33m'\u001b[39m\u001b[33m \u001b[39m\u001b[33m'\u001b[39m,\u001b[33m'\u001b[39m\u001b[33m \u001b[39m\u001b[33m'\u001b[39m,\u001b[33m'\u001b[39m\u001b[33m \u001b[39m\u001b[33m'\u001b[39m,\u001b[33m'\u001b[39m\u001b[33m \u001b[39m\u001b[33m'\u001b[39m,\u001b[33m'\u001b[39m\u001b[33m \u001b[39m\u001b[33m'\u001b[39m,\u001b[33m'\u001b[39m\u001b[33m \u001b[39m\u001b[33m'\u001b[39m,\u001b[33m'\u001b[39m\u001b[33m \u001b[39m\u001b[33m'\u001b[39m]\n\u001b[32m---> \u001b[39m\u001b[32m15\u001b[39m \u001b[38;5;28mprint\u001b[39m(\u001b[33m'\u001b[39m\u001b[33mfind_best_move ->\u001b[39m\u001b[33m'\u001b[39m, \u001b[43mfind_best_move\u001b[49m\u001b[43m(\u001b[49m\u001b[43mtest_board\u001b[49m\u001b[43m,\u001b[49m\u001b[43m \u001b[49m\u001b[33;43m'\u001b[39;49m\u001b[33;43mX\u001b[39;49m\u001b[33;43m'\u001b[39;49m\u001b[43m)\u001b[49m)  \u001b[38;5;66;03m# Expect 2\u001b[39;00m\n",
      "\u001b[36mCell\u001b[39m\u001b[36m \u001b[39m\u001b[32mIn[4]\u001b[39m\u001b[32m, line 4\u001b[39m, in \u001b[36mfind_best_move\u001b[39m\u001b[34m(board, player)\u001b[39m\n\u001b[32m      1\u001b[39m \u001b[38;5;28;01mdef\u001b[39;00m\u001b[38;5;250m \u001b[39m\u001b[34mfind_best_move\u001b[39m(board, player):\n\u001b[32m      2\u001b[39m \u001b[38;5;250m    \u001b[39m\u001b[33;03m\"\"\"Return index of empty square that completes `player` to three-in-a-row, or -1 if none.\u001b[39;00m\n\u001b[32m      3\u001b[39m \u001b[33;03m    \"\"\"\u001b[39;00m\n\u001b[32m----> \u001b[39m\u001b[32m4\u001b[39m     \u001b[38;5;28;01mfor\u001b[39;00m pattern \u001b[38;5;129;01min\u001b[39;00m \u001b[43mwin_patterns\u001b[49m:\n\u001b[32m      5\u001b[39m         line = [board[i] \u001b[38;5;28;01mfor\u001b[39;00m i \u001b[38;5;129;01min\u001b[39;00m pattern]\n\u001b[32m      6\u001b[39m         player_count = \u001b[38;5;28msum\u001b[39m(\u001b[32m1\u001b[39m \u001b[38;5;28;01mfor\u001b[39;00m cell \u001b[38;5;129;01min\u001b[39;00m line \u001b[38;5;28;01mif\u001b[39;00m cell == player)\n",
      "\u001b[31mNameError\u001b[39m: name 'win_patterns' is not defined"
     ]
    }
   ],
   "source": [
    "def find_best_move(board, player):\n",
    "    \"\"\"Return index of empty square that completes `player` to three-in-a-row, or -1 if none.\n",
    "    \"\"\"\n",
    "    for pattern in win_patterns:\n",
    "        line = [board[i] for i in pattern]\n",
    "        player_count = sum(1 for cell in line if cell == player)\n",
    "        empty_count = sum(1 for cell in line if cell == ' ')\n",
    "        if player_count == 2 and empty_count == 1:\n",
    "            empty_pos = pattern[line.index(' ')]\n",
    "            return empty_pos\n",
    "    return -1\n",
    "\n",
    "# test the helper\n",
    "test_board = ['X','X',' ',' ',' ',' ',' ',' ',' ']\n",
    "print('find_best_move ->', find_best_move(test_board, 'X'))  # Expect 2"
   ]
  },
  {
   "cell_type": "code",
   "execution_count": 3,
   "id": "2e2bca8d",
   "metadata": {},
   "outputs": [
    {
     "ename": "NameError",
     "evalue": "name 'print_board' is not defined",
     "output_type": "error",
     "traceback": [
      "\u001b[31m---------------------------------------------------------------------------\u001b[39m",
      "\u001b[31mNameError\u001b[39m                                 Traceback (most recent call last)",
      "\u001b[36mCell\u001b[39m\u001b[36m \u001b[39m\u001b[32mIn[3]\u001b[39m\u001b[32m, line 5\u001b[39m\n\u001b[32m      3\u001b[39m board_demo[\u001b[32m0\u001b[39m] = \u001b[33m'\u001b[39m\u001b[33mX\u001b[39m\u001b[33m'\u001b[39m\n\u001b[32m      4\u001b[39m board_demo[\u001b[32m1\u001b[39m] = \u001b[33m'\u001b[39m\u001b[33mX\u001b[39m\u001b[33m'\u001b[39m\n\u001b[32m----> \u001b[39m\u001b[32m5\u001b[39m \u001b[43mprint_board\u001b[49m(board_demo)\n\u001b[32m      6\u001b[39m move = find_best_move(board_demo, \u001b[33m'\u001b[39m\u001b[33mX\u001b[39m\u001b[33m'\u001b[39m)\n\u001b[32m      7\u001b[39m \u001b[38;5;28mprint\u001b[39m(\u001b[33m'\u001b[39m\u001b[33mbest move for X ->\u001b[39m\u001b[33m'\u001b[39m, move)\n",
      "\u001b[31mNameError\u001b[39m: name 'print_board' is not defined"
     ]
    }
   ],
   "source": [
    "# full small demonstration putting it together\n",
    "board_demo = [' ',' ',' ',' ',' ',' ',' ',' ',' ']\n",
    "board_demo[0] = 'X'\n",
    "board_demo[1] = 'X'\n",
    "print_board(board_demo)\n",
    "move = find_best_move(board_demo, 'X')\n",
    "print('best move for X ->', move)\n",
    "if move != -1:\n",
    "    board_demo[move] = 'X'\n",
    "    print_board(board_demo)\n",
    "    print('X wins?', check_winner(board_demo, 'X'))"
   ]
  },
  {
   "cell_type": "markdown",
   "id": "d008cd88",
   "metadata": {},
   "source": [
    "## Notes and next steps\n",
    "\n",
    "- This lesson reuses display and win-check ideas directly from the repository's Tic-tac-toe notebooks.\n",
    "- Exercises: try using `''.join(board)` to create a single-line board representation and then parse it back; try replacing string marks with single-character `char` equivalents in other languages — in Python a single character is also a `str`.\n",
    "- To expand this into a full program, add input handling and a game loop (the Tic-tac-toe notebooks in this repo show a complete game loop you can copy)."
   ]
  },
  {
   "cell_type": "markdown",
   "id": "1b2e77e7",
   "metadata": {},
   "source": [
    "## Beginner-friendly recap and helpers\n",
    "\n",
    "Below are clearer, well-commented helper implementations for the key ideas shown in this lesson (win detection, finding a blocking/winning move, and safe move placement). These are written so beginners can read and understand every step — run the cell to make the helpers available and then run the quick checks that follow."
   ]
  },
  {
   "cell_type": "code",
   "execution_count": null,
   "id": "533d98b3",
   "metadata": {},
   "outputs": [],
   "source": [
    "# Beginner-friendly helper implementations\n",
    "win_patterns = [\n",
    "    [0,1,2], [3,4,5], [6,7,8],  # rows\n",
    "    [0,3,6], [1,4,7], [2,5,8],  # columns\n",
    "    [0,4,8], [2,4,6]            # diagonals\n",
    "]\n",
    "\n",
    "def check_winner_simple(board, symbol):\n",
    "    \"\"\"Return True if `symbol` appears in any win pattern on `board`.\n",
    "    This beginner-friendly version loops explicitly so new learners can follow the logic.\n",
    "    \"\"\"\n",
    "    for combo in win_patterns:\n",
    "        a, b, c = combo  # unpack the three indices\n",
    "        # Check each position in the pattern contains the symbol\n",
    "        if board[a] == symbol and board[b] == symbol and board[c] == symbol:\n",
    "            return True\n",
    "    return False\n",
    "\n",
    "def find_best_move_simple(board, player):\n",
    "    \"\"\"Return index of empty square that completes `player` to three-in-a-row, or -1 if none.\n",
    "    This version builds the line values and counts occurrences in a readable way.\n",
    "    \"\"\"\n",
    "    for pattern in win_patterns:\n",
    "        line = [board[i] for i in pattern]  # values at the three positions\n",
    "        # Count how many of the player's marks and how many empty spaces\n",
    "        player_count = sum(1 for cell in line if cell == player)\n",
    "        empty_count = sum(1 for cell in line if cell == ' ')\n",
    "        if player_count == 2 and empty_count == 1:\n",
    "            # find which position in the pattern is empty and return its board index\n",
    "            empty_pos_in_line = line.index(' ')\n",
    "            return pattern[empty_pos_in_line]\n",
    "    return -1\n",
    "\n",
    "def make_move_simple(board, position, player):\n",
    "    \"\"\"Try to place player's mark at position (0-8). Return True if successful.\n",
    "    This function validates the position and ensures we don't overwrite an occupied square.\n",
    "    \"\"\"\n",
    "    # Validate position is an integer in the right range\n",
    "    if not isinstance(position, int):\n",
    "        return False\n",
    "    if position < 0 or position > 8:\n",
    "        return False\n",
    "    # Check if the square is empty (represented by a single space ' ')\n",
    "    if board[position] != ' ':\n",
    "        return False\n",
    "    # Place the player's symbol and return True\n",
    "    board[position] = player\n",
    "    return True\n",
    "\n",
    "# Make these the default helpers for the rest of the notebook (simple names)\n",
    "check_winner = check_winner_simple\n",
    "find_best_move = find_best_move_simple\n",
    "make_move = make_move_simple\n",
    "\n",
    "print('Beginner-friendly helpers loaded: check_winner, find_best_move, make_move')"
   ]
  },
  {
   "cell_type": "code",
   "execution_count": null,
   "id": "62f968e3",
   "metadata": {},
   "outputs": [],
   "source": [
    "# Quick assertions to help beginners self-validate the functions\n",
    "assert check_winner(['X','X','X',' ',' ',' ',' ',' ',' '], 'X') == True, 'check_winner failed for top row'\n",
    "assert check_winner(['O',' ',' ','O',' ',' ','O',' ',' '], 'O') == True, 'check_winner failed for column'\n",
    "assert check_winner(['X','O','X','O','X','O','O','X','O'], 'X') == False, 'check_winner false positive'\n",
    "\n",
    "assert find_best_move(['X','X',' ',' ',' ',' ',' ',' ',' '], 'X') == 2, 'find_best_move should return 2'\n",
    "assert find_best_move(['O',' ',' ','O',' ',' ','O',' ',' '], 'O') == 6, 'find_best_move should return 6'\n",
    "assert find_best_move(['X','O','X','O','X','O','O','X','O'], 'X') == -1, 'find_best_move should return -1 when none'\n",
    "\n",
    "b = [' ',' ',' ',' ',' ',' ',' ',' ',' ']\n",
    "assert make_move(b, 4, 'X') == True and b[4] == 'X', 'make_move should place X at 4'\n",
    "b2 = ['X',' ',' ',' ',' ',' ',' ',' ',' ']\n",
    "assert make_move(b2, 0, 'O') == False and b2[0] == 'X', 'make_move should not overwrite'\n",
    "\n",
    "print('All beginner checks passed — if you see this message you are ready to continue!')"
   ]
  }
 ],
 "metadata": {
  "kernelspec": {
   "display_name": "venv",
   "language": "python",
   "name": "python3"
  },
  "language_info": {
   "codemirror_mode": {
    "name": "ipython",
    "version": 3
   },
   "file_extension": ".py",
   "mimetype": "text/x-python",
   "name": "python",
   "nbconvert_exporter": "python",
   "pygments_lexer": "ipython3",
   "version": "3.12.3"
  }
 },
 "nbformat": 4,
 "nbformat_minor": 5
}
