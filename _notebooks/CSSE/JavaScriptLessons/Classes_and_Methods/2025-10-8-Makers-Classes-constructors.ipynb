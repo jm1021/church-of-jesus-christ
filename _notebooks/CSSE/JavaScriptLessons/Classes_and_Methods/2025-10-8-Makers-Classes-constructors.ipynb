{
 "cells": [
  {
   "cell_type": "raw",
   "id": "8098a37c",
   "metadata": {
    "vscode": {
     "languageId": "raw"
    }
   },
   "source": [
    "---\n",
    "layout: post\n",
    "title: Makers - Classes and Constructors JS Lesson\n",
    "description: Classes and Constructors lesson with Cookie Clicker\n",
    "permalink: /Javascript/classes-constructors-lesson\n",
    "categories: [Javascript, Classes and Methods]\n",
    "author: Makers\n",
    "---"
   ]
  },
  {
   "cell_type": "markdown",
   "id": "intro-lesson",
   "metadata": {},
   "source": [
    "# JavaScript Classes and Constructors\n",
    "\n",
    "Before classes were introduced, developers used **constructor functions** to create similar objects.\n",
    "\n",
    "Old:"
   ]
  },
  {
   "cell_type": "code",
   "execution_count": null,
   "id": "96711189",
   "metadata": {
    "vscode": {
     "languageId": "javascript"
    }
   },
   "outputs": [],
   "source": [
    "function Player(name) {\n",
    "  this.name = name;\n",
    "}\n",
    "\n",
    "Player.prototype.greet = function() {\n",
    "  console.log(`Hi, I'm ` + this.name);\n",
    "};\n"
   ]
  },
  {
   "cell_type": "markdown",
   "id": "c6f51228",
   "metadata": {},
   "source": [
    "Then ECMAScript 6 (ES6) was approved as a standard on June 17, 2015, by the Ecma International General Assembly.\n",
    "\n",
    "ES6 is the latest major version of JavaScript, and introduced big features like classes.\n",
    "\n",
    "New:"
   ]
  },
  {
   "cell_type": "code",
   "execution_count": null,
   "id": "1c5f7cf4",
   "metadata": {
    "vscode": {
     "languageId": "javascript"
    }
   },
   "outputs": [],
   "source": [
    "class Player {\n",
    "  constructor(name) {\n",
    "    this.name = name;\n",
    "  }\n",
    "  greet() {\n",
    "    console.log(`Hi, I'm`, this.name);\n",
    "  }\n",
    "}"
   ]
  },
  {
   "cell_type": "markdown",
   "id": "why-use-classes",
   "metadata": {},
   "source": [
    "## Why Use Classes?\n",
    "- To organize your code better.\n",
    "- To create multiple objects of the same structure and behavior (like different players, cars, or users).\n",
    "- To bundle together data (**properties**) and functions (**methods**) into one reusable structure.\n",
    "- Makes it easier to define multiple objects that have the same properties"
   ]
  },
  {
   "cell_type": "markdown",
   "id": "constructor-explained",
   "metadata": {},
   "source": [
    "## What Is a Constructor?\n",
    "\n",
    "The **constructor()** is a special method inside a class that gets called **automatically** when a new object is created using `new`.\n",
    "\n",
    "It’s where you set up the object’s **initial values** (like name, score, or age).\n",
    "\n",
    "Example:\n"
   ]
  },
  {
   "cell_type": "code",
   "execution_count": null,
   "id": "constructor-example",
   "metadata": {
    "vscode": {
     "languageId": "javascript"
    }
   },
   "outputs": [
    {
     "data": {
      "text/html": [
       "<div id=\"output-area\"></div>\n",
       "\n",
       "<script>\n",
       "class Player {\n",
       "    constructor(name, score) {\n",
       "        this.name = name;\n",
       "        this.score = score;\n",
       "    }\n",
       "\n",
       "    greet() {\n",
       "        const message = `Hi! My name is ${this.name} and my score is ${this.score}!`;\n",
       "        console.log(message);\n",
       "        document.getElementById('output-area').innerText += message + \"\\n\";\n",
       "    }\n",
       "}\n",
       "\n",
       "// Create a new Player object\n",
       "const player1 = new Player('Alex', 42);\n",
       "player1.greet();\n",
       "</script>\n"
      ],
      "text/plain": [
       "<IPython.core.display.HTML object>"
      ]
     },
     "metadata": {},
     "output_type": "display_data"
    }
   ],
   "source": [
    "%%javascript\n",
    "\n",
    "class Player {\n",
    "    constructor(name, score) {\n",
    "        this.name = name;\n",
    "        this.score = score;\n",
    "    }\n",
    "    greet() {\n",
    "        const message = `Hi! My name is ${this.name} and my score is ${this.score}!`;\n",
    "        console.log(message);\n",
    "    }\n",
    "}\n",
    "\n",
    "// Create a new Player object\n",
    "const player1 = new Player('Alex', 42);\n",
    "player1.greet(); // Output: Hi! My name is Alex and my score is 42!\n"
   ]
  },
  {
   "cell_type": "markdown",
   "id": "constructor-breakdown",
   "metadata": {},
   "source": [
    "### How It Works:\n",
    "- `class Player` defines the blueprint.\n",
    "- `constructor(name, score)` runs automatically when you create a new Player.\n",
    "- `this.name` and `this.score` store data specific to that object.\n",
    "- The `greet()` method uses **template literals** to print info."
   ]
  },
  {
   "cell_type": "markdown",
   "id": "objects-explained",
   "metadata": {},
   "source": [
    "## Creating Multiple Instances\n",
    "You can make multiple objects (or **instances**) from the same class. This may be of use in game development when you want to have many different characters with similar properties.\n"
   ]
  },
  {
   "cell_type": "code",
   "execution_count": null,
   "id": "multi-objects",
   "metadata": {
    "vscode": {
     "languageId": "javascript"
    }
   },
   "outputs": [],
   "source": [
    "%%javascript\n",
    "const player1 = new Player('Jordan', 99);\n",
    "const player2 = new Player('Taylor', 120);\n",
    "\n",
    "player1.greet();\n",
    "player2.greet();"
   ]
  },
  {
   "cell_type": "markdown",
   "id": "real-world-connection",
   "metadata": {},
   "source": [
    "## Cookie Clicker Example\n",
    "\n",
    "In our Cookie Clicker game, we can use classes and constructors the same way game developers do to organize their code.\n",
    "\n",
    "Think about the game: you start by clicking a big cookie to earn one cookie per click. But then, you can buy buildings (like bakeries or factories) that automatically produce cookies for you.\n",
    "\n",
    "Each building has:\n",
    "\n",
    "- a name (like “Bakery” or “Factory”)\n",
    "\n",
    "- a cookies-per-second (CPS) value that shows how fast it produces cookies\n",
    "\n",
    "- a cost that tells you how many cookies you need to buy it\n",
    "\n",
    "This is a perfect situation for a class — because every building follows the same structure, but has different values.\n",
    "\n",
    "We can make a Building class that acts as a blueprint for all the types of buildings in the game.\n",
    "\n",
    "When we use the constructor, we can pass in the building’s unique details (like its name, CPS, and cost). That way, we don’t need separate chunks of code for each building — we can just create new instances of the same class."
   ]
  },
  {
   "cell_type": "code",
   "execution_count": null,
   "id": "98443d3f",
   "metadata": {
    "vscode": {
     "languageId": "javascript"
    }
   },
   "outputs": [],
   "source": [
    "%%javascript\n",
    "class Building {\n",
    "    constructor(name, cps, cost) { // cps = cookies per second\n",
    "        this.name = name;\n",
    "        this.cps = cps;\n",
    "        this.cost = cost;\n",
    "    }\n",
    "    info() { //this is a method that prints the cookies per second and costs\n",
    "        console.log(this.name, `produces`, this.cps, `cookies per second and costs`, this.cost, `cookies.`);\n",
    "    }\n",
    "}\n",
    "\n",
    "const bakery = new Building('Bakery', 1, 50);\n",
    "const factory = new Building('Factory', 10, 500);\n",
    "\n",
    "bakery.info();\n",
    "factory.info();"
   ]
  },
  {
   "cell_type": "markdown",
   "id": "ce26bb96",
   "metadata": {},
   "source": [
    "## Classes inside classes\n",
    "\n",
    "Much like math, where you have composite functions such as f(g(x)), you can have classes inside of classes. **However, each class can only have one constructor.**"
   ]
  },
  {
   "cell_type": "code",
   "execution_count": null,
   "id": "cookie-clicker",
   "metadata": {
    "vscode": {
     "languageId": "javascript"
    }
   },
   "outputs": [
    {
     "data": {
      "application/javascript": "class Building {\n    constructor(name, cps, cost) { // cps = cookies per second\n        this.name = name;\n        this.cps = cps;\n        this.cost = cost;\n    }\n    info() {\n        console.log(this.name, `produces`, this.cps, `cookies per second and costs`, this.cost, `cookies.`);\n    }\n}\n\nconst bakery = new Building('Bakery', 1, 50);\nconst factory = new Building('Factory', 10, 500);\n\nbakery.info();\nfactory.info();\n",
      "text/plain": [
       "<IPython.core.display.Javascript object>"
      ]
     },
     "metadata": {},
     "output_type": "display_data"
    }
   ],
   "source": [
    "%%javascript\n",
    "class Player {\n",
    "    constructor(name, score) {\n",
    "        this.name = name;\n",
    "        this.score = score;\n",
    "        this.stats = new Player.Stats(0, 0); // create a Stats object for each Player\n",
    "    }\n",
    "\n",
    "    greet() {\n",
    "        console.log(`Hi! My name is`, this.name, `and my score is`, this.score + `!`);\n",
    "    }\n",
    "\n",
    "    // inner class\n",
    "    static Stats = class {\n",
    "        constructor(wins, losses) {\n",
    "            this.wins = wins;\n",
    "            this.losses = losses;\n",
    "        }\n",
    "\n",
    "        recordWin() {\n",
    "            this.wins++;\n",
    "        }\n",
    "\n",
    "        recordLoss() {\n",
    "            this.losses++;\n",
    "        }\n",
    "\n",
    "        showRecord() {\n",
    "            console.log(`Wins:`, this.wins, `Losses:`, this.losses);\n",
    "        }\n",
    "    }\n",
    "}\n",
    "\n",
    "// Example usage\n",
    "const player1 = new Player(\"Ishan\", 120);\n",
    "player1.greet();\n",
    "player1.stats.recordWin();\n",
    "player1.stats.showRecord();\n"
   ]
  }
 ],
 "metadata": {
  "kernelspec": {
   "display_name": "venv",
   "language": "python",
   "name": "python3"
  },
  "language_info": {
   "codemirror_mode": {
    "name": "ipython",
    "version": 3
   },
   "file_extension": ".py",
   "mimetype": "text/x-python",
   "name": "python",
   "nbconvert_exporter": "python",
   "pygments_lexer": "ipython3",
   "version": "3.12.3"
  }
 },
 "nbformat": 4,
 "nbformat_minor": 5
}
